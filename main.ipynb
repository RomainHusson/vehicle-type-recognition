{
 "cells": [
  {
   "cell_type": "markdown",
   "metadata": {},
   "source": [
    "# TAU Vehicle Type Recognition Competition\n",
    "## Vehicle type classification from image data"
   ]
  },
  {
   "cell_type": "markdown",
   "metadata": {},
   "source": [
    "### Import libraries"
   ]
  },
  {
   "cell_type": "code",
   "execution_count": 5,
   "metadata": {},
   "outputs": [],
   "source": [
    "import warnings\n",
    "warnings.filterwarnings('ignore')\n",
    "\n",
    "import os\n",
    "import numpy as np # linear algebra\n",
    "import pandas as pd # data processing, CSV file I/O (e.g. pd.read_csv)\n",
    "import matplotlib.pyplot as plt\n",
    "from PIL import Image\n",
    "from math import ceil\n",
    "\n",
    "from keras.preprocessing.image import ImageDataGenerator\n",
    "from keras.preprocessing.image import img_to_array\n",
    "from keras.preprocessing.image import load_img\n",
    "\n",
    "from keras.applications import inception_v3\n",
    "from keras.applications.inception_v3 import InceptionV3\n",
    "from keras.applications.inception_v3 import preprocess_input as inception_v3_preprocessor\n",
    "\n",
    "from keras.layers import Dense, GlobalAveragePooling2D\n",
    "from keras.models import Model\n",
    "\n",
    "from keras.optimizers import Adam\n",
    "from keras.metrics import categorical_crossentropy"
   ]
  },
  {
   "cell_type": "markdown",
   "metadata": {},
   "source": [
    "### Import the data"
   ]
  },
  {
   "cell_type": "code",
   "execution_count": 6,
   "metadata": {},
   "outputs": [],
   "source": [
    "root = 'C:/Machine Learning/ML Project/vehicle/train/train'\n",
    "data = []\n",
    "for category in sorted(os.listdir(root)):\n",
    "    for file in sorted(os.listdir(os.path.join(root, category))):\n",
    "        data.append((category, os.path.join(root, category,  file)))\n",
    "df_train = pd.DataFrame(data, columns=['classes', 'file_path'])\n",
    "\n",
    "\n",
    "root2 = 'C:/Machine Learning/ML Project/vehicle/test/testset'\n",
    "test_data = []\n",
    "for file in sorted(os.listdir(root2)):\n",
    "      test_data.append(os.path.join(root2,  file))\n",
    "df_test = pd.DataFrame(test_data, columns=['file_path'])\n",
    "\n"
   ]
  },
  {
   "cell_type": "markdown",
   "metadata": {},
   "source": [
    "### Load the paths"
   ]
  },
  {
   "cell_type": "code",
   "execution_count": 39,
   "metadata": {
    "scrolled": true
   },
   "outputs": [],
   "source": [
    "from sklearn.model_selection import train_test_split\n",
    "\n",
    "y_train = df_train['classes'].to_numpy()\n",
    "X_train = df_train['file_path'].to_numpy()\n",
    "X_test_wl = df_test['file_path'].to_numpy()\n",
    "\n",
    "\n",
    "X_train, X_test, y_train, y_test = train_test_split(X_train, y_train, test_size=0.2, random_state=42)\n",
    "\n",
    "\n",
    "train_data = np.array([X_train,y_train])\n",
    "test_data = np.array([X_test,y_test])\n",
    "\n",
    "dataframe_train = pd.DataFrame({'file_path': train_data[0,:], 'classes': train_data[1,:]})\n",
    "\n",
    "dataframe_test = pd.DataFrame({'file_path': test_data[0,:], 'classes': test_data[1,:]})\n",
    "\n",
    "\n",
    "# df_train = pd.DataFrame(train_data, columns=['classes', 'file_path'])\n",
    "# df_test = pd.DataFrame(test_data, columns=['classes', 'file_path'])\n",
    "# print(df_train)"
   ]
  },
  {
   "cell_type": "code",
   "execution_count": 4,
   "metadata": {},
   "outputs": [
    {
     "name": "stdout",
     "output_type": "stream",
     "text": [
      "['Boat' 'Boat' 'Boat' ... 'Bicycle' 'Car' 'Motorcycle']\n"
     ]
    }
   ],
   "source": [
    "# Display example\n",
    "print(y_train)"
   ]
  },
  {
   "cell_type": "markdown",
   "metadata": {},
   "source": [
    "### Create generator to load images during the fit"
   ]
  },
  {
   "cell_type": "code",
   "execution_count": 8,
   "metadata": {},
   "outputs": [
    {
     "name": "stdout",
     "output_type": "stream",
     "text": [
      "Found 22436 validated image filenames belonging to 17 classes.\n",
      "Found 5609 validated image filenames belonging to 17 classes.\n",
      "Found 5609 validated image filenames.\n"
     ]
    }
   ],
   "source": [
    "batch_size = 32\n",
    "\n",
    "train_datagen = ImageDataGenerator(rescale=1./255)\n",
    "\n",
    "valid_datagen = ImageDataGenerator(rescale=1./255)\n",
    "\n",
    "test_datagen = ImageDataGenerator(rescale=1./255)\n",
    "\n",
    "train_generator = train_datagen.flow_from_dataframe(\n",
    "        dataframe_train,\n",
    "        x_col = 'file_path',\n",
    "        y_col = 'classes',\n",
    "        target_size=(299, 299),\n",
    "        batch_size=batch_size,\n",
    "        class_mode='categorical')\n",
    "\n",
    "validation_generator = valid_datagen.flow_from_dataframe(\n",
    "        dataframe_test,\n",
    "        x_col = 'file_path',\n",
    "        y_col = 'classes',\n",
    "        target_size=(299, 299),\n",
    "        batch_size=batch_size,\n",
    "        class_mode='categorical')\n",
    "\n",
    "test_generator = test_datagen.flow_from_dataframe(\n",
    "        dataframe_test,\n",
    "        x_col = 'file_path',\n",
    "        target_size=(299, 299),\n",
    "        batch_size=batch_size,\n",
    "        class_mode=None)"
   ]
  },
  {
   "cell_type": "markdown",
   "metadata": {},
   "source": [
    "### Create the model"
   ]
  },
  {
   "cell_type": "code",
   "execution_count": 40,
   "metadata": {},
   "outputs": [
    {
     "name": "stdout",
     "output_type": "stream",
     "text": [
      "WARNING:tensorflow:From C:\\Users\\Romain\\Anaconda3\\envs\\python36\\lib\\site-packages\\keras\\backend\\tensorflow_backend.py:4070: The name tf.nn.max_pool is deprecated. Please use tf.nn.max_pool2d instead.\n",
      "\n",
      "WARNING:tensorflow:From C:\\Users\\Romain\\Anaconda3\\envs\\python36\\lib\\site-packages\\keras\\backend\\tensorflow_backend.py:4074: The name tf.nn.avg_pool is deprecated. Please use tf.nn.avg_pool2d instead.\n",
      "\n",
      "Downloading data from https://github.com/fchollet/deep-learning-models/releases/download/v0.5/inception_v3_weights_tf_dim_ordering_tf_kernels_notop.h5\n",
      "87916544/87910968 [==============================] - 7s 0us/step\n"
     ]
    }
   ],
   "source": [
    "# Get the InceptionV3 model so we can do transfer learning\n",
    "base_model = InceptionV3(weights = 'imagenet', include_top = False, input_shape=(299, 299, 3))\n",
    "\n",
    "# Add a global spatial average pooling layer\n",
    "x = base_model.output\n",
    "x = GlobalAveragePooling2D()(x)\n",
    "\n",
    "# Add a fully-connected layer and a logistic layer with 20 classes \n",
    "\n",
    "x = Dense(512, activation='relu')(x)\n",
    "predictions = Dense(17, activation='softmax')(x)\n",
    "\n",
    "# The model we will train\n",
    "model = Model(inputs = base_model.input, outputs = predictions)\n",
    "\n",
    "# Freeze all convolutional InceptionV3 layers\n",
    "for layer in base_model.layers:\n",
    "    layer.trainable = False"
   ]
  },
  {
   "cell_type": "markdown",
   "metadata": {},
   "source": [
    "### Compile the model"
   ]
  },
  {
   "cell_type": "code",
   "execution_count": 41,
   "metadata": {},
   "outputs": [],
   "source": [
    "# Compile with Adam\n",
    "model.compile(Adam(lr=.0001), loss='categorical_crossentropy', metrics=['accuracy'])"
   ]
  },
  {
   "cell_type": "markdown",
   "metadata": {},
   "source": [
    "### Train the model"
   ]
  },
  {
   "cell_type": "code",
   "execution_count": 44,
   "metadata": {},
   "outputs": [
    {
     "name": "stdout",
     "output_type": "stream",
     "text": [
      "WARNING:tensorflow:From C:\\Users\\Romain\\Anaconda3\\envs\\python36\\lib\\site-packages\\keras\\backend\\tensorflow_backend.py:422: The name tf.global_variables is deprecated. Please use tf.compat.v1.global_variables instead.\n",
      "\n",
      "Epoch 1/10\n",
      "702/702 [==============================] - 360s 513ms/step - loss: 0.7888 - accuracy: 0.7757 - val_loss: 1.5856 - val_accuracy: 0.8303\n",
      "Epoch 2/10\n",
      "702/702 [==============================] - 362s 516ms/step - loss: 0.5220 - accuracy: 0.8352 - val_loss: 0.2512 - val_accuracy: 0.8757\n",
      "Epoch 3/10\n",
      "702/702 [==============================] - 349s 498ms/step - loss: 0.4820 - accuracy: 0.8452 - val_loss: 0.1079 - val_accuracy: 0.8813\n",
      "Epoch 4/10\n",
      "702/702 [==============================] - 340s 484ms/step - loss: 0.4502 - accuracy: 0.8515 - val_loss: 1.0947 - val_accuracy: 0.8718\n",
      "Epoch 5/10\n",
      "702/702 [==============================] - 340s 484ms/step - loss: 0.4329 - accuracy: 0.8562 - val_loss: 0.5144 - val_accuracy: 0.8706\n",
      "Epoch 6/10\n",
      "702/702 [==============================] - 346s 493ms/step - loss: 0.4040 - accuracy: 0.8671 - val_loss: 0.0974 - val_accuracy: 0.8740\n",
      "Epoch 7/10\n",
      "702/702 [==============================] - 429s 611ms/step - loss: 0.3925 - accuracy: 0.8685 - val_loss: 1.2865 - val_accuracy: 0.8700\n",
      "Epoch 8/10\n",
      "702/702 [==============================] - 419s 596ms/step - loss: 0.3870 - accuracy: 0.8699 - val_loss: 0.4501 - val_accuracy: 0.8693\n",
      "Epoch 9/10\n",
      "702/702 [==============================] - 358s 510ms/step - loss: 0.3768 - accuracy: 0.8717 - val_loss: 0.5396 - val_accuracy: 0.8620\n",
      "Epoch 10/10\n",
      "702/702 [==============================] - 365s 520ms/step - loss: 0.3590 - accuracy: 0.8758 - val_loss: 1.4383 - val_accuracy: 0.8681\n"
     ]
    },
    {
     "data": {
      "text/plain": [
       "<keras.callbacks.callbacks.History at 0x2079bbb66a0>"
      ]
     },
     "execution_count": 44,
     "metadata": {},
     "output_type": "execute_result"
    }
   ],
   "source": [
    "model.fit_generator(\n",
    "        train_generator,\n",
    "        steps_per_epoch=ceil(len(X_train) / batch_size),\n",
    "        epochs=10,\n",
    "        validation_data=validation_generator,\n",
    "        validation_steps=ceil(len(X_test) / batch_size))"
   ]
  },
  {
   "cell_type": "markdown",
   "metadata": {},
   "source": [
    "### Save the model "
   ]
  },
  {
   "cell_type": "code",
   "execution_count": 45,
   "metadata": {},
   "outputs": [],
   "source": [
    "model.save(\"model.h5\")\n",
    "\n",
    "# Load model \n",
    "# model = load_model('model.h5')"
   ]
  },
  {
   "cell_type": "markdown",
   "metadata": {},
   "source": [
    "### Test on Kaggle dataset"
   ]
  },
  {
   "cell_type": "code",
   "execution_count": 9,
   "metadata": {
    "scrolled": true
   },
   "outputs": [
    {
     "name": "stdout",
     "output_type": "stream",
     "text": [
      "WARNING:tensorflow:From C:\\Users\\Romain\\Anaconda3\\envs\\python36\\lib\\site-packages\\keras\\backend\\tensorflow_backend.py:4070: The name tf.nn.max_pool is deprecated. Please use tf.nn.max_pool2d instead.\n",
      "\n",
      "WARNING:tensorflow:From C:\\Users\\Romain\\Anaconda3\\envs\\python36\\lib\\site-packages\\keras\\backend\\tensorflow_backend.py:4074: The name tf.nn.avg_pool is deprecated. Please use tf.nn.avg_pool2d instead.\n",
      "\n",
      "WARNING:tensorflow:From C:\\Users\\Romain\\Anaconda3\\envs\\python36\\lib\\site-packages\\keras\\backend\\tensorflow_backend.py:422: The name tf.global_variables is deprecated. Please use tf.compat.v1.global_variables instead.\n",
      "\n"
     ]
    }
   ],
   "source": [
    "from keras.models import load_model\n",
    "\n",
    "# Load model \n",
    "model = load_model('model.h5')"
   ]
  },
  {
   "cell_type": "code",
   "execution_count": 59,
   "metadata": {},
   "outputs": [
    {
     "name": "stdout",
     "output_type": "stream",
     "text": [
      "Epoch 1/1\n",
      "702/702 [==============================] - 364s 518ms/step - loss: 0.3490 - accuracy: 0.8826 - val_loss: 0.0712 - val_accuracy: 0.8754\n"
     ]
    },
    {
     "data": {
      "text/plain": [
       "<keras.callbacks.callbacks.History at 0x2940ff3f588>"
      ]
     },
     "execution_count": 59,
     "metadata": {},
     "output_type": "execute_result"
    }
   ],
   "source": [
    "model.fit_generator(\n",
    "        train_generator,\n",
    "        steps_per_epoch=ceil(len(X_train) / batch_size),\n",
    "        epochs=1,\n",
    "        validation_data=validation_generator,\n",
    "        validation_steps=ceil(len(X_test) / batch_size))\n"
   ]
  },
  {
   "cell_type": "code",
   "execution_count": 42,
   "metadata": {},
   "outputs": [
    {
     "name": "stdout",
     "output_type": "stream",
     "text": [
      "0\n",
      "100\n",
      "200\n",
      "300\n",
      "400\n",
      "500\n",
      "600\n",
      "700\n",
      "800\n",
      "900\n",
      "1000\n",
      "1100\n",
      "1200\n",
      "1300\n",
      "1400\n",
      "1500\n",
      "1600\n",
      "1700\n",
      "1800\n",
      "1900\n",
      "2000\n",
      "2100\n",
      "2200\n",
      "2300\n",
      "2400\n",
      "2500\n",
      "2600\n",
      "2700\n",
      "2800\n",
      "2900\n",
      "3000\n",
      "3100\n",
      "3200\n",
      "3300\n",
      "3400\n",
      "3500\n",
      "3600\n",
      "3700\n",
      "3800\n",
      "3900\n",
      "4000\n",
      "4100\n",
      "4200\n",
      "4300\n",
      "4400\n",
      "4500\n",
      "4600\n",
      "4700\n",
      "4800\n",
      "4900\n",
      "5000\n",
      "5100\n",
      "5200\n",
      "5300\n",
      "5400\n",
      "5500\n",
      "5600\n",
      "5700\n",
      "5800\n",
      "5900\n",
      "6000\n",
      "6100\n",
      "6200\n",
      "6300\n",
      "6400\n",
      "6500\n",
      "6600\n",
      "6700\n",
      "6800\n",
      "6900\n",
      "7000\n",
      "7100\n",
      "7200\n",
      "7300\n",
      "7400\n",
      "7500\n",
      "7600\n",
      "7700\n",
      "7800\n",
      "7900\n"
     ]
    }
   ],
   "source": [
    "size_test = 1000\n",
    "\n",
    "testList = []\n",
    "\n",
    "X_test_reduced = X_test_wl\n",
    "\n",
    "for i in range(len(X_test_reduced)):\n",
    "    if (i%100==0):\n",
    "        print(i)\n",
    "    img = img_to_array(load_img(X_test_reduced[i], target_size=(299,299)))/255\n",
    "    img = img.astype(np.float32)\n",
    "    testList.append(img)\n",
    "\n",
    "testList = np.array(testList)"
   ]
  },
  {
   "cell_type": "code",
   "execution_count": 40,
   "metadata": {},
   "outputs": [
    {
     "name": "stdout",
     "output_type": "stream",
     "text": [
      "7958\n"
     ]
    }
   ],
   "source": [
    "print(len(X_test_wl))"
   ]
  },
  {
   "cell_type": "code",
   "execution_count": 43,
   "metadata": {},
   "outputs": [
    {
     "name": "stdout",
     "output_type": "stream",
     "text": [
      "(7958, 299, 299, 3)\n"
     ]
    }
   ],
   "source": [
    "print(testList.shape)"
   ]
  },
  {
   "cell_type": "code",
   "execution_count": 44,
   "metadata": {
    "scrolled": true
   },
   "outputs": [],
   "source": [
    "# Predicting\n",
    "predicted = model.predict(test_generator,steps = ceil(len(X_test)/1))\n",
    "# predicted = model.predict(testList)"
   ]
  },
  {
   "cell_type": "code",
   "execution_count": 36,
   "metadata": {},
   "outputs": [
    {
     "name": "stdout",
     "output_type": "stream",
     "text": [
      "[1.6378048e-05 3.8820098e-03 1.2303755e-05 9.4173700e-01 1.6872598e-03\n",
      " 5.0528903e-02 4.4117251e-06 4.7081357e-08 2.9773043e-06 1.8067808e-04\n",
      " 2.3189766e-06 4.7191452e-06 5.5452261e-07 7.2619673e-07 2.5292381e-04\n",
      " 8.3190936e-04 8.5488299e-04]\n"
     ]
    }
   ],
   "source": [
    "print(predicted[0])"
   ]
  },
  {
   "cell_type": "code",
   "execution_count": 45,
   "metadata": {},
   "outputs": [
    {
     "name": "stdout",
     "output_type": "stream",
     "text": [
      "['Boat', 'Van', 'Truck', 'Van', 'Bicycle', 'Car', 'Car', 'Boat', 'Tank', 'Car', 'Motorcycle', 'Car', 'Bicycle', 'Bus', 'Car', 'Bus', 'Tank', 'Car', 'Limousine', 'Car', 'Car', 'Car', 'Car', 'Van', 'Bicycle', 'Bicycle', 'Car', 'Car', 'Car', 'Car', 'Boat', 'Car', 'Taxi', 'Car', 'Car', 'Car', 'Car', 'Boat', 'Truck', 'Motorcycle', 'Car', 'Truck', 'Helicopter', 'Car', 'Motorcycle', 'Car', 'Bicycle', 'Car', 'Snowmobile', 'Bicycle', 'Bicycle', 'Car', 'Boat', 'Ambulance', 'Car', 'Boat', 'Boat', 'Car', 'Helicopter', 'Truck', 'Car', 'Car', 'Bicycle', 'Cart', 'Bus', 'Van', 'Car', 'Boat', 'Boat', 'Car', 'Bicycle', 'Truck', 'Boat', 'Car', 'Car', 'Car', 'Truck', 'Boat', 'Truck', 'Boat', 'Taxi', 'Car', 'Van', 'Car', 'Bus', 'Van', 'Boat', 'Helicopter', 'Boat', 'Van', 'Truck', 'Van', 'Boat', 'Car', 'Car', 'Truck', 'Boat', 'Truck', 'Car', 'Helicopter', 'Bicycle', 'Car', 'Car', 'Truck', 'Truck', 'Boat', 'Taxi', 'Truck', 'Tank', 'Car', 'Car', 'Motorcycle', 'Car', 'Car', 'Car', 'Car', 'Taxi', 'Car', 'Tank', 'Boat', 'Car', 'Helicopter', 'Helicopter', 'Boat', 'Boat', 'Car', 'Car', 'Car', 'Boat', 'Van', 'Bus', 'Car', 'Car', 'Motorcycle', 'Car', 'Van', 'Van', 'Motorcycle', 'Car', 'Motorcycle', 'Boat', 'Bicycle', 'Motorcycle', 'Car', 'Car', 'Truck', 'Truck', 'Motorcycle', 'Truck', 'Car', 'Car', 'Motorcycle', 'Car', 'Caterpillar', 'Car', 'Car', 'Boat', 'Segway', 'Truck', 'Van', 'Car', 'Truck', 'Bus', 'Bus', 'Car', 'Boat', 'Car', 'Car', 'Car', 'Car', 'Tank', 'Cart', 'Car', 'Caterpillar', 'Motorcycle', 'Car', 'Car', 'Car', 'Car', 'Car', 'Car', 'Helicopter', 'Car', 'Helicopter', 'Van', 'Bicycle', 'Motorcycle', 'Boat', 'Boat', 'Car', 'Boat', 'Boat', 'Truck', 'Motorcycle', 'Truck', 'Ambulance', 'Boat', 'Car', 'Car', 'Car', 'Car', 'Tank', 'Van', 'Car', 'Car', 'Motorcycle', 'Caterpillar', 'Car', 'Car', 'Truck', 'Car', 'Car', 'Motorcycle', 'Van', 'Car', 'Boat', 'Ambulance', 'Helicopter', 'Car', 'Car', 'Bus', 'Car', 'Boat', 'Truck', 'Car', 'Truck', 'Boat', 'Car', 'Helicopter', 'Van', 'Truck', 'Bicycle', 'Van', 'Car', 'Car', 'Motorcycle', 'Boat', 'Car', 'Cart', 'Helicopter', 'Car', 'Boat', 'Boat', 'Car', 'Car', 'Helicopter', 'Truck', 'Car', 'Boat', 'Bus', 'Bicycle', 'Car', 'Truck', 'Helicopter', 'Car', 'Bicycle', 'Car', 'Car', 'Truck', 'Bicycle', 'Boat', 'Boat', 'Bicycle', 'Boat', 'Truck', 'Bicycle', 'Boat', 'Boat', 'Car', 'Segway', 'Cart', 'Car', 'Taxi', 'Car', 'Car', 'Car', 'Car', 'Tank', 'Car', 'Car', 'Boat', 'Bicycle', 'Car', 'Boat', 'Helicopter', 'Boat', 'Truck', 'Motorcycle', 'Car', 'Helicopter', 'Bicycle', 'Truck', 'Boat', 'Car', 'Car', 'Boat', 'Boat', 'Car', 'Car', 'Van', 'Car', 'Car', 'Car', 'Car', 'Caterpillar', 'Car', 'Car', 'Boat', 'Car', 'Car', 'Car', 'Car', 'Car', 'Car', 'Car', 'Car', 'Boat', 'Car', 'Car', 'Boat', 'Car', 'Bus', 'Van', 'Car', 'Truck', 'Bus', 'Car', 'Helicopter', 'Car', 'Car', 'Car', 'Car', 'Car', 'Car', 'Truck', 'Car', 'Car', 'Motorcycle', 'Boat', 'Car', 'Car', 'Car', 'Truck', 'Car', 'Helicopter', 'Car', 'Car', 'Car', 'Truck', 'Motorcycle', 'Car', 'Car', 'Car', 'Boat', 'Car', 'Boat', 'Car', 'Bicycle', 'Car', 'Taxi', 'Car', 'Car', 'Truck', 'Car', 'Van', 'Helicopter', 'Car', 'Car', 'Car', 'Car', 'Boat', 'Car', 'Boat', 'Truck', 'Car', 'Car', 'Bicycle', 'Car', 'Taxi', 'Truck', 'Boat', 'Helicopter', 'Car', 'Bus', 'Bus', 'Boat', 'Car', 'Truck', 'Motorcycle', 'Car', 'Boat', 'Car', 'Bicycle', 'Motorcycle', 'Motorcycle', 'Car', 'Bus', 'Car', 'Truck', 'Truck', 'Car', 'Car', 'Car', 'Car', 'Car', 'Car', 'Car', 'Helicopter', 'Car', 'Car', 'Van', 'Cart', 'Ambulance', 'Car', 'Car', 'Helicopter', 'Truck', 'Truck', 'Bicycle', 'Car', 'Bicycle', 'Truck', 'Bicycle', 'Boat', 'Van', 'Car', 'Boat', 'Car', 'Car', 'Van', 'Car', 'Van', 'Car', 'Car', 'Car', 'Bus', 'Car', 'Car', 'Boat', 'Motorcycle', 'Car', 'Bus', 'Car', 'Truck', 'Motorcycle', 'Bicycle', 'Car', 'Van', 'Car', 'Car', 'Car', 'Truck', 'Bicycle', 'Boat', 'Car', 'Car', 'Car', 'Car', 'Car', 'Car', 'Car', 'Car', 'Car', 'Car', 'Car', 'Bus', 'Helicopter', 'Motorcycle', 'Car', 'Car', 'Car', 'Car', 'Boat', 'Car', 'Car', 'Boat', 'Truck', 'Bus', 'Car', 'Boat', 'Boat', 'Boat', 'Car', 'Car', 'Car', 'Boat', 'Truck', 'Car', 'Car', 'Car', 'Car', 'Car', 'Truck', 'Bicycle', 'Boat', 'Tank', 'Car', 'Boat', 'Ambulance', 'Bus', 'Truck', 'Car', 'Car', 'Car', 'Boat', 'Car', 'Car', 'Car', 'Car', 'Car', 'Bus', 'Snowmobile', 'Car', 'Car', 'Truck', 'Ambulance', 'Car', 'Truck', 'Car', 'Bicycle', 'Bicycle', 'Car', 'Car', 'Boat', 'Truck', 'Helicopter', 'Car', 'Car', 'Bicycle', 'Motorcycle', 'Car', 'Boat', 'Van', 'Car', 'Truck', 'Bus', 'Car', 'Van', 'Car', 'Car', 'Helicopter', 'Van', 'Helicopter', 'Helicopter', 'Car', 'Car', 'Boat', 'Bicycle', 'Truck', 'Helicopter', 'Truck', 'Bicycle', 'Car', 'Boat', 'Truck', 'Car', 'Boat', 'Motorcycle', 'Car', 'Car', 'Boat', 'Motorcycle', 'Bicycle', 'Boat', 'Helicopter', 'Boat', 'Car', 'Car', 'Car', 'Boat', 'Truck', 'Car', 'Car', 'Car', 'Car', 'Car', 'Motorcycle', 'Car', 'Bus', 'Motorcycle', 'Car', 'Car', 'Car', 'Car', 'Helicopter', 'Motorcycle', 'Boat', 'Car', 'Bicycle', 'Boat', 'Car', 'Taxi', 'Car', 'Car', 'Car', 'Boat', 'Truck', 'Bicycle', 'Van', 'Car', 'Car', 'Boat', 'Car', 'Truck', 'Car', 'Boat', 'Boat', 'Ambulance', 'Boat', 'Car', 'Boat', 'Boat', 'Boat', 'Car', 'Car', 'Helicopter', 'Helicopter', 'Car', 'Car', 'Boat', 'Truck', 'Truck', 'Car', 'Caterpillar', 'Helicopter', 'Car', 'Boat', 'Car', 'Car', 'Helicopter', 'Boat', 'Bicycle', 'Bus', 'Car', 'Boat', 'Car', 'Car', 'Car', 'Bus', 'Bicycle', 'Ambulance', 'Car', 'Car', 'Taxi', 'Van', 'Car', 'Motorcycle', 'Bus', 'Car', 'Boat', 'Boat', 'Boat', 'Car', 'Boat', 'Car', 'Boat', 'Car', 'Limousine', 'Bus', 'Boat', 'Taxi', 'Car', 'Car', 'Truck', 'Boat', 'Truck', 'Boat', 'Car', 'Truck', 'Motorcycle', 'Car', 'Helicopter', 'Car', 'Car', 'Car', 'Car', 'Boat', 'Truck', 'Truck', 'Tank', 'Boat', 'Car', 'Car', 'Truck', 'Car', 'Bicycle', 'Truck', 'Truck', 'Boat', 'Car', 'Car', 'Car', 'Car', 'Car', 'Motorcycle', 'Boat', 'Boat', 'Truck', 'Truck', 'Car', 'Car', 'Van', 'Motorcycle', 'Bicycle', 'Car', 'Limousine', 'Car', 'Car', 'Helicopter', 'Helicopter', 'Bus', 'Car', 'Car', 'Car', 'Car', 'Car', 'Car', 'Car', 'Tank', 'Boat', 'Boat', 'Car', 'Car', 'Boat', 'Car', 'Truck', 'Truck', 'Motorcycle', 'Car', 'Motorcycle', 'Car', 'Snowmobile', 'Truck', 'Boat', 'Taxi', 'Motorcycle', 'Caterpillar', 'Ambulance', 'Car', 'Boat', 'Bicycle', 'Car', 'Boat', 'Car', 'Car', 'Boat', 'Truck', 'Car', 'Van', 'Boat', 'Boat', 'Boat', 'Bus', 'Motorcycle', 'Car', 'Car', 'Car', 'Motorcycle', 'Car', 'Helicopter', 'Car', 'Tank', 'Helicopter', 'Helicopter', 'Car', 'Car', 'Caterpillar', 'Car', 'Truck', 'Car', 'Motorcycle', 'Motorcycle', 'Motorcycle', 'Boat', 'Bus', 'Truck', 'Truck', 'Car', 'Car', 'Boat', 'Car', 'Boat', 'Car', 'Car', 'Truck', 'Truck', 'Limousine', 'Car', 'Car', 'Car', 'Car', 'Car', 'Car', 'Car', 'Car', 'Car', 'Truck', 'Segway', 'Van', 'Tank', 'Boat', 'Car', 'Motorcycle', 'Motorcycle', 'Bus', 'Truck', 'Car', 'Car', 'Boat', 'Car', 'Helicopter', 'Car', 'Boat', 'Truck', 'Van', 'Car', 'Car', 'Car', 'Boat', 'Boat', 'Boat', 'Car', 'Truck', 'Car', 'Truck', 'Car', 'Car', 'Car', 'Car', 'Car', 'Ambulance', 'Car', 'Truck', 'Helicopter', 'Car', 'Segway', 'Car', 'Bus', 'Taxi', 'Car', 'Car', 'Car', 'Car', 'Van', 'Truck', 'Caterpillar', 'Truck', 'Car', 'Boat', 'Motorcycle', 'Van', 'Truck', 'Van', 'Car', 'Car', 'Car', 'Truck', 'Car', 'Car', 'Car', 'Truck', 'Boat', 'Boat', 'Car', 'Truck', 'Motorcycle', 'Bicycle', 'Bus', 'Truck', 'Boat', 'Helicopter', 'Car', 'Cart', 'Boat', 'Bus', 'Car', 'Segway', 'Motorcycle', 'Car', 'Boat', 'Boat', 'Motorcycle', 'Car', 'Truck', 'Car', 'Taxi', 'Boat', 'Car', 'Car', 'Car', 'Motorcycle', 'Van', 'Car', 'Bicycle', 'Truck', 'Car', 'Car', 'Car', 'Car', 'Truck', 'Motorcycle', 'Van', 'Car', 'Taxi', 'Boat', 'Car', 'Motorcycle', 'Boat', 'Car', 'Motorcycle', 'Car', 'Car', 'Boat', 'Boat', 'Helicopter', 'Helicopter', 'Boat', 'Truck', 'Car', 'Car', 'Car', 'Bus', 'Car', 'Car', 'Boat', 'Car', 'Truck', 'Truck', 'Boat', 'Car', 'Boat', 'Car', 'Bus', 'Van', 'Boat', 'Boat', 'Car', 'Car', 'Motorcycle', 'Bicycle', 'Truck', 'Car', 'Bus', 'Car', 'Bicycle', 'Car', 'Car', 'Truck', 'Car', 'Car', 'Car', 'Car', 'Car', 'Truck', 'Van', 'Helicopter', 'Car', 'Bicycle', 'Boat', 'Van', 'Car', 'Car', 'Car', 'Motorcycle', 'Boat', 'Taxi', 'Boat', 'Car', 'Boat', 'Boat', 'Truck', 'Truck', 'Car', 'Car', 'Car', 'Car', 'Bus', 'Motorcycle', 'Car', 'Truck', 'Car', 'Van', 'Car', 'Helicopter', 'Van', 'Boat', 'Cart', 'Truck', 'Car', 'Bicycle', 'Car', 'Boat', 'Car', 'Bicycle', 'Truck', 'Motorcycle', 'Boat', 'Boat', 'Van', 'Bus', 'Bus', 'Car', 'Boat', 'Car', 'Boat', 'Car', 'Car', 'Helicopter', 'Car', 'Van', 'Car', 'Van', 'Car', 'Motorcycle', 'Car', 'Truck', 'Car', 'Bus', 'Car', 'Car', 'Car', 'Car', 'Car', 'Car', 'Car', 'Helicopter', 'Truck', 'Car', 'Motorcycle', 'Car', 'Truck', 'Car', 'Truck', 'Car', 'Taxi', 'Bus', 'Truck', 'Bus', 'Boat', 'Car', 'Motorcycle', 'Car', 'Helicopter', 'Boat', 'Boat', 'Car', 'Helicopter', 'Car', 'Limousine', 'Bicycle', 'Van', 'Tank', 'Car', 'Boat', 'Caterpillar', 'Motorcycle', 'Taxi', 'Car', 'Bicycle', 'Car', 'Car', 'Boat', 'Bus', 'Car', 'Bus', 'Boat', 'Boat', 'Car', 'Motorcycle', 'Boat', 'Motorcycle', 'Car', 'Truck', 'Truck', 'Car', 'Boat', 'Car', 'Bicycle', 'Car', 'Motorcycle', 'Van', 'Motorcycle', 'Boat', 'Car', 'Car', 'Boat', 'Car', 'Car', 'Car', 'Car', 'Car', 'Motorcycle', 'Car', 'Car', 'Bicycle', 'Bicycle', 'Tank', 'Motorcycle', 'Tank', 'Car', 'Car', 'Boat', 'Car', 'Car', 'Segway', 'Bus', 'Car', 'Car', 'Car', 'Helicopter', 'Car', 'Boat', 'Helicopter', 'Taxi', 'Car', 'Car', 'Car', 'Car', 'Helicopter', 'Car', 'Bus', 'Boat', 'Truck', 'Car', 'Car', 'Car', 'Car', 'Boat', 'Motorcycle', 'Bus', 'Van', 'Car', 'Car', 'Boat', 'Car', 'Car', 'Boat', 'Car', 'Boat', 'Car', 'Car', 'Van', 'Car', 'Car', 'Motorcycle', 'Car', 'Car', 'Cart', 'Truck', 'Boat', 'Limousine', 'Limousine', 'Car', 'Car', 'Car', 'Helicopter', 'Car', 'Car', 'Car', 'Truck', 'Car', 'Motorcycle', 'Car', 'Car', 'Van', 'Boat', 'Ambulance', 'Boat', 'Boat', 'Car', 'Car', 'Truck', 'Truck', 'Truck', 'Boat', 'Van', 'Boat', 'Car', 'Boat', 'Car', 'Car', 'Boat', 'Boat', 'Helicopter', 'Car', 'Bicycle', 'Car', 'Car', 'Car', 'Boat', 'Van', 'Car', 'Boat', 'Car', 'Boat', 'Car', 'Truck', 'Car', 'Car', 'Helicopter', 'Car', 'Boat', 'Boat', 'Car', 'Motorcycle', 'Limousine', 'Car', 'Bicycle', 'Car', 'Truck', 'Truck', 'Car', 'Boat', 'Car', 'Motorcycle', 'Car', 'Motorcycle', 'Car', 'Car', 'Boat', 'Boat', 'Boat', 'Boat', 'Limousine', 'Car', 'Helicopter', 'Car', 'Caterpillar', 'Truck', 'Car', 'Car', 'Car', 'Truck', 'Motorcycle', 'Car', 'Car', 'Helicopter', 'Tank', 'Car', 'Car', 'Helicopter', 'Car', 'Car', 'Car', 'Segway', 'Car', 'Car', 'Car', 'Car', 'Boat', 'Car', 'Car', 'Car', 'Tank', 'Boat', 'Boat', 'Car', 'Boat', 'Car', 'Truck', 'Boat', 'Car', 'Car', 'Car', 'Car', 'Boat', 'Helicopter', 'Taxi', 'Boat', 'Car', 'Car', 'Car', 'Boat', 'Car', 'Car', 'Boat', 'Car', 'Boat', 'Car', 'Car', 'Car', 'Van', 'Boat', 'Car', 'Car', 'Car', 'Boat', 'Car', 'Car', 'Truck', 'Car', 'Helicopter', 'Bicycle', 'Bus', 'Truck', 'Car', 'Car', 'Car', 'Tank', 'Car', 'Van', 'Car', 'Truck', 'Car', 'Truck', 'Car', 'Car', 'Car', 'Boat', 'Motorcycle', 'Car', 'Boat', 'Motorcycle', 'Boat', 'Car', 'Car', 'Car', 'Van', 'Ambulance', 'Car', 'Car', 'Car', 'Car', 'Car', 'Boat', 'Car', 'Car', 'Motorcycle', 'Car', 'Car', 'Boat', 'Motorcycle', 'Car', 'Boat', 'Car', 'Car', 'Car', 'Truck', 'Truck', 'Taxi', 'Boat', 'Boat', 'Limousine', 'Car', 'Car', 'Boat', 'Car', 'Van', 'Limousine', 'Helicopter', 'Car', 'Car', 'Van', 'Truck', 'Helicopter', 'Car', 'Boat', 'Car', 'Car', 'Car', 'Car', 'Car', 'Car', 'Motorcycle', 'Car', 'Boat', 'Boat', 'Boat', 'Boat', 'Car', 'Car', 'Car', 'Car', 'Car', 'Car', 'Helicopter', 'Car', 'Helicopter', 'Boat', 'Taxi', 'Car', 'Car', 'Car', 'Car', 'Taxi', 'Boat', 'Car', 'Car', 'Truck', 'Boat', 'Car', 'Segway', 'Car', 'Van', 'Car', 'Car', 'Car', 'Car', 'Truck', 'Snowmobile', 'Truck', 'Boat', 'Car', 'Car', 'Car', 'Car', 'Car', 'Boat', 'Truck', 'Car', 'Helicopter', 'Tank', 'Car', 'Car', 'Taxi', 'Boat', 'Car', 'Van', 'Car', 'Bicycle', 'Boat', 'Car', 'Tank', 'Boat', 'Caterpillar', 'Car', 'Car', 'Car', 'Car', 'Car', 'Car', 'Truck', 'Truck', 'Car', 'Van', 'Tank', 'Car', 'Van', 'Car', 'Helicopter', 'Car', 'Boat', 'Van', 'Cart', 'Car', 'Bicycle', 'Taxi', 'Car', 'Helicopter', 'Car', 'Car', 'Boat', 'Car', 'Bicycle', 'Van', 'Boat', 'Motorcycle', 'Motorcycle', 'Car', 'Truck', 'Car', 'Van', 'Car', 'Boat', 'Car', 'Car', 'Car', 'Truck', 'Boat', 'Car', 'Limousine', 'Helicopter', 'Car', 'Motorcycle', 'Car', 'Car', 'Car', 'Car', 'Truck', 'Bicycle', 'Car', 'Car', 'Car', 'Car', 'Truck', 'Boat', 'Boat', 'Helicopter', 'Car', 'Car', 'Car', 'Helicopter', 'Motorcycle', 'Car', 'Bicycle', 'Car', 'Car', 'Car', 'Bicycle', 'Car', 'Car', 'Car', 'Snowmobile', 'Motorcycle', 'Car', 'Car', 'Helicopter', 'Car', 'Car', 'Helicopter', 'Truck', 'Car', 'Van', 'Taxi', 'Car', 'Helicopter', 'Car', 'Truck', 'Boat', 'Boat', 'Car', 'Truck', 'Truck', 'Van', 'Car', 'Car', 'Car', 'Boat', 'Car', 'Car', 'Helicopter', 'Boat', 'Car', 'Car', 'Car', 'Ambulance', 'Car', 'Bicycle', 'Car', 'Truck', 'Truck', 'Boat', 'Helicopter', 'Boat', 'Car', 'Car', 'Motorcycle', 'Car', 'Bicycle', 'Truck', 'Boat', 'Car', 'Bicycle', 'Car', 'Boat', 'Van', 'Helicopter', 'Car', 'Helicopter', 'Car', 'Taxi', 'Car', 'Car', 'Boat', 'Car', 'Truck', 'Car', 'Motorcycle', 'Car', 'Van', 'Tank', 'Car', 'Boat', 'Boat', 'Car', 'Car', 'Truck', 'Boat', 'Helicopter', 'Boat', 'Car', 'Boat', 'Car', 'Car', 'Truck', 'Motorcycle', 'Car', 'Helicopter', 'Helicopter', 'Helicopter', 'Ambulance', 'Bicycle', 'Motorcycle', 'Truck', 'Car', 'Car', 'Car', 'Boat', 'Car', 'Truck', 'Truck', 'Car', 'Car', 'Helicopter', 'Car', 'Boat', 'Car', 'Truck', 'Helicopter', 'Bicycle', 'Bus', 'Car', 'Car', 'Car', 'Car', 'Boat', 'Ambulance', 'Truck', 'Car', 'Car', 'Boat', 'Taxi', 'Car', 'Van', 'Boat', 'Car', 'Car', 'Motorcycle', 'Car', 'Car', 'Car', 'Car', 'Truck', 'Car', 'Car', 'Car', 'Car', 'Boat', 'Bicycle', 'Boat', 'Car', 'Car', 'Boat', 'Helicopter', 'Car', 'Car', 'Helicopter', 'Car', 'Tank', 'Truck', 'Car', 'Car', 'Motorcycle', 'Truck', 'Car', 'Boat', 'Boat', 'Car', 'Truck', 'Motorcycle', 'Motorcycle', 'Helicopter', 'Car', 'Car', 'Helicopter', 'Boat', 'Car', 'Car', 'Car', 'Car', 'Motorcycle', 'Car', 'Car', 'Car', 'Car', 'Car', 'Boat', 'Van', 'Car', 'Car', 'Boat', 'Car', 'Car', 'Car', 'Tank', 'Van', 'Bus', 'Truck', 'Car', 'Car', 'Boat', 'Car', 'Car', 'Boat', 'Motorcycle', 'Van', 'Car', 'Car', 'Car', 'Car', 'Bicycle', 'Car', 'Boat', 'Boat', 'Car', 'Car', 'Car', 'Car', 'Car', 'Van', 'Ambulance', 'Bus', 'Car', 'Car', 'Car', 'Car', 'Car', 'Car', 'Helicopter', 'Car', 'Car', 'Boat', 'Boat', 'Car', 'Bicycle', 'Boat', 'Helicopter', 'Car', 'Truck', 'Car', 'Car', 'Boat', 'Boat', 'Car', 'Bicycle', 'Car', 'Car', 'Boat', 'Motorcycle', 'Car', 'Car', 'Bus', 'Car', 'Car', 'Boat', 'Car', 'Truck', 'Car', 'Car', 'Car', 'Car', 'Car', 'Boat', 'Car', 'Truck', 'Boat', 'Truck', 'Car', 'Bicycle', 'Boat', 'Boat', 'Boat', 'Car', 'Car', 'Car', 'Truck', 'Boat', 'Car', 'Helicopter', 'Car', 'Car', 'Car', 'Car', 'Van', 'Car', 'Car', 'Boat', 'Bus', 'Car', 'Car', 'Car', 'Car', 'Car', 'Truck', 'Boat', 'Car', 'Bicycle', 'Car', 'Car', 'Car', 'Car', 'Car', 'Car', 'Truck', 'Boat', 'Segway', 'Boat', 'Car', 'Van', 'Truck', 'Car', 'Truck', 'Car', 'Car', 'Car', 'Bus', 'Truck', 'Boat', 'Boat', 'Car', 'Car', 'Car', 'Car', 'Car', 'Car', 'Boat', 'Car', 'Car', 'Car', 'Car', 'Boat', 'Car', 'Motorcycle', 'Car', 'Truck', 'Car', 'Motorcycle', 'Bicycle', 'Boat', 'Truck', 'Truck', 'Car', 'Car', 'Bicycle', 'Car', 'Truck', 'Car', 'Boat', 'Car', 'Truck', 'Car', 'Ambulance', 'Car', 'Bus', 'Car', 'Tank', 'Snowmobile', 'Van', 'Truck', 'Boat', 'Truck', 'Truck', 'Car', 'Motorcycle', 'Car', 'Boat', 'Boat', 'Truck', 'Car', 'Car', 'Car', 'Van', 'Truck', 'Tank', 'Boat', 'Car', 'Boat', 'Van', 'Car', 'Motorcycle', 'Car', 'Motorcycle', 'Car', 'Truck', 'Car', 'Motorcycle', 'Car', 'Truck', 'Helicopter', 'Boat', 'Taxi', 'Bus', 'Bicycle', 'Truck', 'Motorcycle', 'Car', 'Car', 'Car', 'Car', 'Car', 'Boat', 'Taxi', 'Car', 'Boat', 'Car', 'Truck', 'Boat', 'Truck', 'Car', 'Boat', 'Boat', 'Van', 'Car', 'Car', 'Car', 'Ambulance', 'Truck', 'Car', 'Tank', 'Truck', 'Car', 'Boat', 'Car', 'Car', 'Car', 'Boat', 'Boat', 'Truck', 'Truck', 'Car', 'Truck', 'Truck', 'Car', 'Car', 'Car', 'Van', 'Car', 'Car', 'Truck', 'Truck', 'Boat', 'Car', 'Truck', 'Car', 'Van', 'Car', 'Bicycle', 'Truck', 'Caterpillar', 'Car', 'Helicopter', 'Car', 'Car', 'Car', 'Bus', 'Car', 'Truck', 'Boat', 'Bicycle', 'Truck', 'Car', 'Car', 'Car', 'Truck', 'Car', 'Car', 'Boat', 'Car', 'Boat', 'Boat', 'Car', 'Car', 'Helicopter', 'Truck', 'Boat', 'Boat', 'Car', 'Taxi', 'Car', 'Truck', 'Helicopter', 'Car', 'Car', 'Car', 'Car', 'Car', 'Van', 'Bus', 'Bicycle', 'Car', 'Car', 'Boat', 'Car', 'Truck', 'Car', 'Car', 'Boat', 'Car', 'Bicycle', 'Boat', 'Truck', 'Car', 'Car', 'Boat', 'Car', 'Boat', 'Car', 'Truck', 'Bicycle', 'Bus', 'Boat', 'Car', 'Bus', 'Car', 'Boat', 'Car', 'Car', 'Truck', 'Car', 'Car', 'Motorcycle', 'Helicopter', 'Truck', 'Car', 'Helicopter', 'Boat', 'Boat', 'Car', 'Ambulance', 'Car', 'Boat', 'Ambulance', 'Segway', 'Taxi', 'Helicopter', 'Bus', 'Bus', 'Caterpillar', 'Boat', 'Car', 'Bus', 'Car', 'Car', 'Car', 'Boat', 'Boat', 'Car', 'Motorcycle', 'Car', 'Car', 'Car', 'Car', 'Car', 'Motorcycle', 'Car', 'Snowmobile', 'Car', 'Helicopter', 'Bicycle', 'Car', 'Helicopter', 'Motorcycle', 'Car', 'Helicopter', 'Boat', 'Car', 'Boat', 'Car', 'Car', 'Motorcycle', 'Car', 'Car', 'Boat', 'Car', 'Boat', 'Car', 'Boat', 'Helicopter', 'Boat', 'Car', 'Boat', 'Car', 'Boat', 'Motorcycle', 'Bicycle', 'Van', 'Motorcycle', 'Bicycle', 'Ambulance', 'Taxi', 'Boat', 'Car', 'Car', 'Car', 'Car', 'Car', 'Car', 'Truck', 'Car', 'Car', 'Boat', 'Car', 'Van', 'Car', 'Car', 'Truck', 'Car', 'Car', 'Van', 'Car', 'Car', 'Car', 'Truck', 'Car', 'Car', 'Car', 'Snowmobile', 'Boat', 'Boat', 'Car', 'Truck', 'Boat', 'Boat', 'Truck', 'Car', 'Motorcycle', 'Boat', 'Boat', 'Car', 'Truck', 'Bus', 'Ambulance', 'Helicopter', 'Car', 'Truck', 'Car', 'Car', 'Car', 'Car', 'Bicycle', 'Boat', 'Car', 'Helicopter', 'Bus', 'Car', 'Car', 'Motorcycle', 'Car', 'Car', 'Car', 'Bus', 'Car', 'Bicycle', 'Motorcycle', 'Caterpillar', 'Car', 'Bus', 'Motorcycle', 'Caterpillar', 'Boat', 'Boat', 'Car', 'Boat', 'Car', 'Car', 'Bus', 'Car', 'Car', 'Car', 'Car', 'Van', 'Helicopter', 'Car', 'Bicycle', 'Car', 'Truck', 'Boat', 'Car', 'Truck', 'Truck', 'Ambulance', 'Bicycle', 'Car', 'Car', 'Car', 'Car', 'Car', 'Motorcycle', 'Car', 'Boat', 'Caterpillar', 'Car', 'Car', 'Taxi', 'Car', 'Truck', 'Car', 'Boat', 'Truck', 'Van', 'Cart', 'Bicycle', 'Car', 'Van', 'Ambulance', 'Car', 'Car', 'Car', 'Car', 'Car', 'Car', 'Van', 'Truck', 'Van', 'Car', 'Car', 'Car', 'Boat', 'Boat', 'Motorcycle', 'Taxi', 'Car', 'Car', 'Car', 'Truck', 'Car', 'Car', 'Boat', 'Truck', 'Taxi', 'Car', 'Car', 'Motorcycle', 'Boat', 'Motorcycle', 'Truck', 'Boat', 'Car', 'Car', 'Car', 'Car', 'Truck', 'Boat', 'Truck', 'Car', 'Bicycle', 'Bicycle', 'Car', 'Helicopter', 'Van', 'Truck', 'Truck', 'Helicopter', 'Boat', 'Tank', 'Car', 'Car', 'Car', 'Car', 'Car', 'Car', 'Boat', 'Car', 'Bicycle', 'Motorcycle', 'Car', 'Boat', 'Car', 'Caterpillar', 'Car', 'Boat', 'Car', 'Car', 'Segway', 'Car', 'Car', 'Boat', 'Car', 'Boat', 'Car', 'Car', 'Bicycle', 'Car', 'Car', 'Truck', 'Car', 'Car', 'Car', 'Bicycle', 'Car', 'Car', 'Car', 'Bicycle', 'Car', 'Bus', 'Tank', 'Car', 'Truck', 'Bus', 'Bicycle', 'Car', 'Car', 'Car', 'Car', 'Truck', 'Car', 'Car', 'Car', 'Bus', 'Car', 'Helicopter', 'Bicycle', 'Car', 'Bicycle', 'Boat', 'Bicycle', 'Truck', 'Car', 'Car', 'Boat', 'Boat', 'Truck', 'Car', 'Motorcycle', 'Truck', 'Truck', 'Truck', 'Boat', 'Car', 'Van', 'Car', 'Boat', 'Car', 'Car', 'Motorcycle', 'Car', 'Car', 'Car', 'Car', 'Car', 'Truck', 'Car', 'Car', 'Boat', 'Van', 'Car', 'Car', 'Boat', 'Boat', 'Car', 'Cart', 'Boat', 'Truck', 'Boat', 'Segway', 'Car', 'Truck', 'Motorcycle', 'Car', 'Bus', 'Car', 'Bicycle', 'Car', 'Car', 'Motorcycle', 'Car', 'Bus', 'Car', 'Car', 'Car', 'Car', 'Truck', 'Car', 'Car', 'Helicopter', 'Car', 'Car', 'Car', 'Car', 'Truck', 'Car', 'Boat', 'Car', 'Cart', 'Boat', 'Car', 'Car', 'Car', 'Car', 'Car', 'Ambulance', 'Car', 'Truck', 'Motorcycle', 'Motorcycle', 'Helicopter', 'Bus', 'Car', 'Motorcycle', 'Car', 'Car', 'Bus', 'Car', 'Boat', 'Truck', 'Boat', 'Truck', 'Truck', 'Boat', 'Boat', 'Car', 'Helicopter', 'Helicopter', 'Boat', 'Car', 'Truck', 'Car', 'Car', 'Car', 'Van', 'Car', 'Car', 'Car', 'Boat', 'Motorcycle', 'Truck', 'Car', 'Motorcycle', 'Boat', 'Motorcycle', 'Truck', 'Motorcycle', 'Bus', 'Car', 'Car', 'Car', 'Car', 'Car', 'Boat', 'Boat', 'Car', 'Car', 'Car', 'Car', 'Car', 'Boat', 'Helicopter', 'Taxi', 'Truck', 'Car', 'Car', 'Motorcycle', 'Taxi', 'Truck', 'Boat', 'Truck', 'Car', 'Boat', 'Helicopter', 'Van', 'Car', 'Car', 'Caterpillar', 'Helicopter', 'Motorcycle', 'Bus', 'Van', 'Bus', 'Helicopter', 'Car', 'Car', 'Cart', 'Taxi', 'Car', 'Car', 'Car', 'Boat', 'Car', 'Car', 'Car', 'Boat', 'Car', 'Car', 'Car', 'Car', 'Boat', 'Truck', 'Helicopter', 'Bus', 'Bus', 'Helicopter', 'Bicycle', 'Car', 'Car', 'Helicopter', 'Motorcycle', 'Bicycle', 'Car', 'Bicycle', 'Car', 'Car', 'Boat', 'Van', 'Car', 'Car', 'Car', 'Boat', 'Car', 'Bus', 'Boat', 'Car', 'Tank', 'Motorcycle', 'Van', 'Car', 'Car', 'Bus', 'Car', 'Truck', 'Taxi', 'Truck', 'Motorcycle', 'Bicycle', 'Car', 'Truck', 'Tank', 'Boat', 'Car', 'Truck', 'Car', 'Boat', 'Helicopter', 'Motorcycle', 'Motorcycle', 'Car', 'Car', 'Van', 'Car', 'Car', 'Boat', 'Car', 'Motorcycle', 'Boat', 'Car', 'Car', 'Car', 'Car', 'Car', 'Car', 'Car', 'Car', 'Bicycle', 'Motorcycle', 'Helicopter', 'Boat', 'Car', 'Truck', 'Car', 'Bus', 'Car', 'Car', 'Motorcycle', 'Truck', 'Car', 'Boat', 'Car', 'Car', 'Car', 'Motorcycle', 'Boat', 'Ambulance', 'Cart', 'Car', 'Car', 'Taxi', 'Helicopter', 'Car', 'Boat', 'Car', 'Boat', 'Helicopter', 'Car', 'Truck', 'Boat', 'Helicopter', 'Car', 'Boat', 'Car', 'Car', 'Car', 'Boat', 'Car', 'Tank', 'Car', 'Car', 'Boat', 'Car', 'Car', 'Bicycle', 'Car', 'Boat', 'Car', 'Car', 'Car', 'Helicopter', 'Boat', 'Car', 'Truck', 'Helicopter', 'Car', 'Limousine', 'Bicycle', 'Car', 'Bicycle', 'Van', 'Bus', 'Car', 'Helicopter', 'Car', 'Car', 'Boat', 'Car', 'Caterpillar', 'Boat', 'Boat', 'Car', 'Boat', 'Bus', 'Boat', 'Boat', 'Car', 'Boat', 'Car', 'Car', 'Motorcycle', 'Boat', 'Bus', 'Bicycle', 'Bicycle', 'Car', 'Helicopter', 'Boat', 'Car', 'Car', 'Truck', 'Car', 'Car', 'Motorcycle', 'Car', 'Car', 'Boat', 'Truck', 'Car', 'Boat', 'Bicycle', 'Tank', 'Tank', 'Helicopter', 'Truck', 'Boat', 'Bus', 'Car', 'Van', 'Car', 'Car', 'Car', 'Car', 'Car', 'Car', 'Car', 'Car', 'Van', 'Car', 'Car', 'Boat', 'Van', 'Car', 'Bus', 'Car', 'Tank', 'Car', 'Motorcycle', 'Car', 'Car', 'Motorcycle', 'Boat', 'Car', 'Boat', 'Boat', 'Car', 'Car', 'Van', 'Car', 'Car', 'Car', 'Bicycle', 'Truck', 'Car', 'Car', 'Boat', 'Bus', 'Truck', 'Car', 'Van', 'Car', 'Caterpillar', 'Boat', 'Boat', 'Car', 'Car', 'Boat', 'Car', 'Car', 'Boat', 'Car', 'Car', 'Boat', 'Ambulance', 'Boat', 'Taxi', 'Car', 'Truck', 'Car', 'Truck', 'Bicycle', 'Car', 'Car', 'Truck', 'Bicycle', 'Truck', 'Car', 'Helicopter', 'Car', 'Car', 'Car', 'Motorcycle', 'Car', 'Truck', 'Car', 'Car', 'Car', 'Segway', 'Boat', 'Bus', 'Car', 'Van', 'Helicopter', 'Car', 'Truck', 'Helicopter', 'Truck', 'Boat', 'Car', 'Boat', 'Car', 'Car', 'Car', 'Truck', 'Car', 'Car', 'Car', 'Car', 'Car', 'Car', 'Car', 'Car', 'Car', 'Car', 'Car', 'Car', 'Car', 'Boat', 'Boat', 'Bicycle', 'Truck', 'Car', 'Bicycle', 'Car', 'Car', 'Boat', 'Boat', 'Caterpillar', 'Car', 'Car', 'Car', 'Boat', 'Car', 'Boat', 'Motorcycle', 'Car', 'Car', 'Car', 'Truck', 'Tank', 'Car', 'Bicycle', 'Motorcycle', 'Car', 'Truck', 'Helicopter', 'Truck', 'Car', 'Car', 'Car', 'Bus', 'Car', 'Boat', 'Van', 'Boat', 'Car', 'Helicopter', 'Bicycle', 'Motorcycle', 'Car', 'Truck', 'Car', 'Motorcycle', 'Car', 'Boat', 'Bicycle', 'Car', 'Boat', 'Van', 'Motorcycle', 'Bus', 'Van', 'Car', 'Bicycle', 'Segway', 'Boat', 'Helicopter', 'Car', 'Car', 'Car', 'Bus', 'Truck', 'Car', 'Car', 'Truck', 'Car', 'Truck', 'Car', 'Bus', 'Car', 'Car', 'Car', 'Boat', 'Boat', 'Boat', 'Car', 'Helicopter', 'Car', 'Car', 'Car', 'Car', 'Boat', 'Boat', 'Tank', 'Van', 'Truck', 'Car', 'Motorcycle', 'Car', 'Boat', 'Car', 'Taxi', 'Helicopter', 'Boat', 'Van', 'Truck', 'Boat', 'Car', 'Bicycle', 'Car', 'Car', 'Car', 'Truck', 'Car', 'Car', 'Boat', 'Boat', 'Helicopter', 'Truck', 'Boat', 'Helicopter', 'Car', 'Ambulance', 'Truck', 'Car', 'Car', 'Car', 'Truck', 'Boat', 'Car', 'Car', 'Car', 'Boat', 'Motorcycle', 'Car', 'Car', 'Motorcycle', 'Truck', 'Car', 'Helicopter', 'Motorcycle', 'Motorcycle', 'Car', 'Car', 'Car', 'Bus', 'Car', 'Bicycle', 'Car', 'Car', 'Boat', 'Car', 'Car', 'Boat', 'Limousine', 'Van', 'Motorcycle', 'Car', 'Car', 'Car', 'Helicopter', 'Motorcycle', 'Truck', 'Car', 'Motorcycle', 'Car', 'Car', 'Car', 'Segway', 'Car', 'Car', 'Car', 'Boat', 'Caterpillar', 'Car', 'Motorcycle', 'Truck', 'Car', 'Car', 'Car', 'Motorcycle', 'Car', 'Car', 'Car', 'Boat', 'Car', 'Motorcycle', 'Van', 'Boat', 'Car', 'Car', 'Caterpillar', 'Car', 'Car', 'Boat', 'Car', 'Segway', 'Car', 'Boat', 'Car', 'Van', 'Bus', 'Bus', 'Cart', 'Bicycle', 'Truck', 'Tank', 'Car', 'Car', 'Bus', 'Car', 'Car', 'Car', 'Helicopter', 'Truck', 'Truck', 'Car', 'Boat', 'Van', 'Boat', 'Car', 'Boat', 'Car', 'Van', 'Car', 'Ambulance', 'Helicopter', 'Car', 'Car', 'Car', 'Car', 'Boat', 'Boat', 'Boat', 'Car', 'Motorcycle', 'Car', 'Boat', 'Car', 'Car', 'Taxi', 'Truck', 'Car', 'Boat', 'Car', 'Boat', 'Car', 'Van', 'Boat', 'Boat', 'Boat', 'Car', 'Car', 'Helicopter', 'Car', 'Helicopter', 'Car', 'Boat', 'Boat', 'Van', 'Car', 'Car', 'Bicycle', 'Truck', 'Boat', 'Boat', 'Boat', 'Car', 'Bicycle', 'Car', 'Car', 'Car', 'Car', 'Car', 'Boat', 'Truck', 'Helicopter', 'Boat', 'Boat', 'Bicycle', 'Car', 'Car', 'Car', 'Boat', 'Motorcycle', 'Truck', 'Boat', 'Car', 'Van', 'Boat', 'Car', 'Helicopter', 'Car', 'Car', 'Van', 'Motorcycle', 'Car', 'Car', 'Car', 'Car', 'Helicopter', 'Truck', 'Car', 'Car', 'Car', 'Car', 'Car', 'Boat', 'Car', 'Car', 'Taxi', 'Motorcycle', 'Taxi', 'Boat', 'Tank', 'Car', 'Car', 'Bicycle', 'Car', 'Car', 'Boat', 'Bicycle', 'Truck', 'Boat', 'Van', 'Boat', 'Car', 'Cart', 'Car', 'Car', 'Truck', 'Motorcycle', 'Car', 'Car', 'Car', 'Caterpillar', 'Car', 'Car', 'Truck', 'Car', 'Bicycle', 'Car', 'Helicopter', 'Car', 'Car', 'Boat', 'Car', 'Truck', 'Car', 'Taxi', 'Car', 'Truck', 'Car', 'Motorcycle', 'Car', 'Car', 'Car', 'Car', 'Van', 'Boat', 'Tank', 'Bicycle', 'Car', 'Car', 'Car', 'Snowmobile', 'Boat', 'Truck', 'Truck', 'Car', 'Car', 'Bus', 'Truck', 'Bus', 'Motorcycle', 'Car', 'Van', 'Car', 'Boat', 'Car', 'Car', 'Bicycle', 'Boat', 'Boat', 'Boat', 'Car', 'Motorcycle', 'Motorcycle', 'Boat', 'Car', 'Car', 'Car', 'Car', 'Helicopter', 'Bus', 'Boat', 'Car', 'Truck', 'Truck', 'Boat', 'Car', 'Helicopter', 'Car', 'Car', 'Car', 'Segway', 'Car', 'Motorcycle', 'Car', 'Car', 'Car', 'Bus', 'Car', 'Van', 'Car', 'Car', 'Motorcycle', 'Boat', 'Taxi', 'Motorcycle', 'Truck', 'Car', 'Car', 'Boat', 'Tank', 'Car', 'Car', 'Caterpillar', 'Car', 'Car', 'Van', 'Car', 'Bicycle', 'Ambulance', 'Car', 'Motorcycle', 'Boat', 'Bicycle', 'Car', 'Van', 'Car', 'Car', 'Car', 'Car', 'Car', 'Car', 'Car', 'Bicycle', 'Car', 'Truck', 'Car', 'Car', 'Helicopter', 'Boat', 'Boat', 'Car', 'Car', 'Car', 'Car', 'Car', 'Car', 'Motorcycle', 'Car', 'Car', 'Caterpillar', 'Car', 'Truck', 'Boat', 'Car', 'Van', 'Car', 'Truck', 'Boat', 'Boat', 'Truck', 'Truck', 'Bicycle', 'Car', 'Limousine', 'Motorcycle', 'Helicopter', 'Helicopter', 'Car', 'Car', 'Truck', 'Car', 'Boat', 'Limousine', 'Boat', 'Truck', 'Car', 'Tank', 'Car', 'Car', 'Car', 'Motorcycle', 'Car', 'Car', 'Boat', 'Car', 'Taxi', 'Boat', 'Motorcycle', 'Car', 'Car', 'Car', 'Boat', 'Motorcycle', 'Car', 'Motorcycle', 'Car', 'Car', 'Car', 'Boat', 'Truck', 'Car', 'Van', 'Bicycle', 'Car', 'Truck', 'Car', 'Boat', 'Car', 'Car', 'Helicopter', 'Bicycle', 'Car', 'Truck', 'Van', 'Car', 'Bus', 'Truck', 'Car', 'Car', 'Truck', 'Boat', 'Car', 'Car', 'Car', 'Truck', 'Bus', 'Boat', 'Car', 'Motorcycle', 'Car', 'Helicopter', 'Car', 'Helicopter', 'Car', 'Bicycle', 'Van', 'Car', 'Car', 'Boat', 'Car', 'Motorcycle', 'Truck', 'Boat', 'Bicycle', 'Car', 'Boat', 'Car', 'Boat', 'Car', 'Boat', 'Car', 'Car', 'Snowmobile', 'Car', 'Car', 'Car', 'Car', 'Car', 'Bus', 'Car', 'Car', 'Helicopter', 'Boat', 'Motorcycle', 'Car', 'Car', 'Bicycle', 'Bicycle', 'Car', 'Bicycle', 'Car', 'Helicopter', 'Boat', 'Car', 'Boat', 'Van', 'Truck', 'Truck', 'Car', 'Car', 'Van', 'Truck', 'Van', 'Motorcycle', 'Car', 'Helicopter', 'Bicycle', 'Car', 'Helicopter', 'Car', 'Boat', 'Helicopter', 'Ambulance', 'Bicycle', 'Bus', 'Car', 'Car', 'Boat', 'Boat', 'Boat', 'Car', 'Boat', 'Boat', 'Car', 'Snowmobile', 'Car', 'Car', 'Truck', 'Car', 'Car', 'Boat', 'Car', 'Car', 'Van', 'Truck', 'Car', 'Motorcycle', 'Truck', 'Taxi', 'Car', 'Car', 'Boat', 'Car', 'Boat', 'Motorcycle', 'Motorcycle', 'Van', 'Car', 'Car', 'Car', 'Ambulance', 'Boat', 'Helicopter', 'Bicycle', 'Van', 'Boat', 'Car', 'Car', 'Car', 'Car', 'Car', 'Car', 'Motorcycle', 'Cart', 'Boat', 'Bus', 'Boat', 'Motorcycle', 'Truck', 'Car', 'Car', 'Car', 'Bicycle', 'Helicopter', 'Motorcycle', 'Helicopter', 'Car', 'Car', 'Bicycle', 'Car', 'Car', 'Car', 'Car', 'Caterpillar', 'Car', 'Car', 'Motorcycle', 'Car', 'Motorcycle', 'Caterpillar', 'Car', 'Cart', 'Car', 'Car', 'Helicopter', 'Bus', 'Car', 'Car', 'Boat', 'Van', 'Car', 'Boat', 'Car', 'Bus', 'Tank', 'Car', 'Car', 'Boat', 'Truck', 'Car', 'Boat', 'Boat', 'Helicopter', 'Car', 'Truck', 'Bicycle', 'Car', 'Bicycle', 'Car', 'Bicycle', 'Boat', 'Car', 'Van', 'Caterpillar', 'Bicycle', 'Car', 'Boat', 'Car', 'Bicycle', 'Van', 'Car', 'Boat', 'Boat', 'Bus', 'Car', 'Car', 'Van', 'Truck', 'Truck', 'Boat', 'Car', 'Helicopter', 'Boat', 'Car', 'Boat', 'Car', 'Car', 'Car', 'Car', 'Truck', 'Truck', 'Car', 'Truck', 'Car', 'Car', 'Bus', 'Boat', 'Taxi', 'Car', 'Boat', 'Boat', 'Car', 'Car', 'Car', 'Car', 'Car', 'Helicopter', 'Car', 'Car', 'Car', 'Boat', 'Van', 'Car', 'Boat', 'Tank', 'Bicycle', 'Car', 'Car', 'Car', 'Van', 'Bicycle', 'Car', 'Motorcycle', 'Car', 'Car', 'Truck', 'Bicycle', 'Boat', 'Motorcycle', 'Boat', 'Car', 'Car', 'Taxi', 'Boat', 'Boat', 'Truck', 'Bus', 'Truck', 'Truck', 'Car', 'Car', 'Motorcycle', 'Car', 'Helicopter', 'Car', 'Car', 'Truck', 'Motorcycle', 'Car', 'Car', 'Car', 'Boat', 'Truck', 'Ambulance', 'Car', 'Taxi', 'Van', 'Car', 'Boat', 'Truck', 'Truck', 'Motorcycle', 'Boat', 'Boat', 'Car', 'Taxi', 'Car', 'Bicycle', 'Car', 'Boat', 'Car', 'Truck', 'Car', 'Bus', 'Car', 'Tank', 'Motorcycle', 'Car', 'Boat', 'Car', 'Car', 'Bus', 'Car', 'Car', 'Bicycle', 'Boat', 'Car', 'Car', 'Truck', 'Car', 'Truck', 'Van', 'Bicycle', 'Tank', 'Bus', 'Car', 'Car', 'Boat', 'Boat', 'Truck', 'Car', 'Motorcycle', 'Car', 'Car', 'Boat', 'Car', 'Car', 'Bicycle', 'Taxi', 'Boat', 'Boat', 'Car', 'Motorcycle', 'Boat', 'Caterpillar', 'Car', 'Car', 'Helicopter', 'Motorcycle', 'Car', 'Car', 'Boat', 'Car', 'Car', 'Boat', 'Car', 'Helicopter', 'Bus', 'Car', 'Boat', 'Boat', 'Cart', 'Truck', 'Motorcycle', 'Car', 'Car', 'Boat', 'Car', 'Car', 'Car', 'Boat', 'Helicopter', 'Car', 'Car', 'Boat', 'Boat', 'Car', 'Car', 'Car', 'Car', 'Boat', 'Boat', 'Car', 'Van', 'Car', 'Truck', 'Bicycle', 'Truck', 'Car', 'Van', 'Motorcycle', 'Boat', 'Bicycle', 'Helicopter', 'Car', 'Boat', 'Boat', 'Car', 'Car', 'Car', 'Truck', 'Car', 'Boat', 'Car', 'Taxi', 'Motorcycle', 'Bicycle', 'Car', 'Van', 'Car', 'Boat', 'Boat', 'Boat', 'Caterpillar', 'Boat', 'Truck', 'Car', 'Car', 'Motorcycle', 'Car', 'Car', 'Bus', 'Car', 'Car', 'Motorcycle', 'Boat', 'Bus', 'Car', 'Car', 'Car', 'Bicycle', 'Car', 'Tank', 'Boat', 'Car', 'Motorcycle', 'Car', 'Bicycle', 'Car', 'Motorcycle', 'Bicycle', 'Car', 'Boat', 'Car', 'Car', 'Bicycle', 'Car', 'Car', 'Van', 'Van', 'Car', 'Car', 'Truck', 'Boat', 'Boat', 'Car', 'Car', 'Car', 'Motorcycle', 'Car', 'Car', 'Taxi', 'Car', 'Car', 'Boat', 'Car', 'Truck', 'Boat', 'Car', 'Car', 'Car', 'Car', 'Motorcycle', 'Snowmobile', 'Car', 'Van', 'Car', 'Boat', 'Snowmobile', 'Bicycle', 'Car', 'Boat', 'Truck', 'Car', 'Car', 'Car', 'Boat', 'Car', 'Truck', 'Boat', 'Car', 'Van', 'Helicopter', 'Boat', 'Boat', 'Car', 'Car', 'Ambulance', 'Taxi', 'Car', 'Caterpillar', 'Car', 'Car', 'Car', 'Truck', 'Car', 'Bicycle', 'Ambulance', 'Car', 'Car', 'Car', 'Helicopter', 'Boat', 'Car', 'Boat', 'Motorcycle', 'Truck', 'Helicopter', 'Car', 'Car', 'Tank', 'Segway', 'Boat', 'Car', 'Car', 'Truck', 'Car', 'Caterpillar', 'Helicopter', 'Bicycle', 'Truck', 'Boat', 'Taxi', 'Van', 'Car', 'Boat', 'Van', 'Car', 'Car', 'Car', 'Boat', 'Car', 'Car', 'Car', 'Boat', 'Car', 'Car', 'Car', 'Motorcycle', 'Car', 'Car', 'Boat', 'Car', 'Cart', 'Car', 'Bus', 'Cart', 'Van', 'Tank', 'Car', 'Boat', 'Boat', 'Car', 'Boat', 'Car', 'Car', 'Car', 'Car', 'Boat', 'Motorcycle', 'Car', 'Car', 'Truck', 'Car', 'Boat', 'Car', 'Van', 'Car', 'Segway', 'Motorcycle', 'Motorcycle', 'Boat', 'Boat', 'Truck', 'Car', 'Truck', 'Car', 'Boat', 'Car', 'Truck', 'Taxi', 'Van', 'Ambulance', 'Boat', 'Car', 'Boat', 'Bus', 'Truck', 'Motorcycle', 'Car', 'Helicopter', 'Car', 'Car', 'Truck', 'Car', 'Helicopter', 'Helicopter', 'Car', 'Truck', 'Motorcycle', 'Car', 'Car', 'Boat', 'Helicopter', 'Boat', 'Car', 'Boat', 'Boat', 'Helicopter', 'Car', 'Car', 'Bus', 'Bus', 'Car', 'Car', 'Boat', 'Boat', 'Boat', 'Car', 'Car', 'Car', 'Car', 'Van', 'Car', 'Bicycle', 'Car', 'Car', 'Car', 'Car', 'Car', 'Ambulance', 'Car', 'Car', 'Car', 'Car', 'Tank', 'Car', 'Motorcycle', 'Boat', 'Car', 'Car', 'Limousine', 'Helicopter', 'Boat', 'Motorcycle', 'Boat', 'Car', 'Helicopter', 'Helicopter', 'Car', 'Car', 'Boat', 'Boat', 'Car', 'Boat', 'Car', 'Motorcycle', 'Bicycle', 'Car', 'Car', 'Bicycle', 'Boat', 'Truck', 'Van', 'Truck', 'Car', 'Car', 'Truck', 'Bus', 'Car', 'Car', 'Car', 'Car', 'Cart', 'Van', 'Helicopter', 'Car', 'Boat', 'Car', 'Car', 'Car', 'Car', 'Car', 'Bus', 'Car', 'Tank', 'Car', 'Truck', 'Car', 'Boat', 'Van', 'Car', 'Boat', 'Truck', 'Boat', 'Car', 'Boat', 'Bus', 'Boat', 'Boat', 'Helicopter', 'Car', 'Car', 'Boat', 'Car', 'Car', 'Helicopter', 'Bus', 'Boat', 'Boat', 'Boat', 'Boat', 'Van', 'Ambulance', 'Bicycle', 'Motorcycle', 'Car', 'Car', 'Boat', 'Car', 'Car', 'Car', 'Boat', 'Bicycle', 'Motorcycle', 'Bicycle', 'Car', 'Van', 'Car', 'Car', 'Car', 'Bicycle', 'Truck', 'Bicycle', 'Truck', 'Snowmobile', 'Car', 'Van', 'Boat', 'Car', 'Boat', 'Helicopter', 'Tank', 'Boat', 'Van', 'Car', 'Car', 'Truck', 'Car', 'Helicopter', 'Truck', 'Car', 'Van', 'Car', 'Boat', 'Car', 'Truck', 'Car', 'Car', 'Bicycle', 'Motorcycle', 'Bus', 'Helicopter', 'Boat', 'Caterpillar', 'Car', 'Van', 'Boat', 'Truck', 'Car', 'Car', 'Truck', 'Helicopter', 'Car', 'Car', 'Boat', 'Motorcycle', 'Boat', 'Car', 'Ambulance', 'Boat', 'Boat', 'Car', 'Car', 'Helicopter', 'Truck', 'Truck', 'Car', 'Car', 'Car', 'Car', 'Boat', 'Boat', 'Car', 'Bicycle', 'Boat', 'Car', 'Truck', 'Helicopter', 'Boat', 'Boat', 'Car', 'Car', 'Car', 'Ambulance', 'Car', 'Boat', 'Bicycle', 'Car', 'Car', 'Caterpillar', 'Boat', 'Truck', 'Car', 'Car', 'Car', 'Car', 'Helicopter', 'Car', 'Car', 'Caterpillar', 'Bus', 'Boat', 'Car', 'Boat', 'Motorcycle', 'Bicycle', 'Boat', 'Boat', 'Car', 'Helicopter', 'Bicycle', 'Boat', 'Boat', 'Car', 'Bicycle', 'Boat', 'Bus', 'Car', 'Car', 'Car', 'Car', 'Car', 'Boat', 'Car', 'Boat', 'Boat', 'Boat', 'Bicycle', 'Boat', 'Car', 'Bicycle', 'Car', 'Truck', 'Boat', 'Boat', 'Car', 'Car', 'Car', 'Bus', 'Car', 'Car', 'Boat', 'Boat', 'Car', 'Bicycle', 'Car', 'Car', 'Car', 'Car', 'Car', 'Bus', 'Boat', 'Helicopter', 'Limousine', 'Car', 'Boat', 'Car', 'Motorcycle', 'Car', 'Boat', 'Truck', 'Car', 'Boat', 'Car', 'Car', 'Helicopter', 'Bus', 'Motorcycle', 'Car', 'Car', 'Car', 'Car', 'Boat', 'Bicycle', 'Car', 'Helicopter', 'Car', 'Bus', 'Motorcycle', 'Car', 'Car', 'Bicycle', 'Car', 'Boat', 'Boat', 'Helicopter', 'Car', 'Tank', 'Boat', 'Motorcycle', 'Truck', 'Car', 'Helicopter', 'Car', 'Car', 'Motorcycle', 'Boat', 'Boat', 'Car', 'Motorcycle', 'Car', 'Boat', 'Car', 'Van', 'Car', 'Car', 'Truck', 'Car', 'Car', 'Car', 'Snowmobile', 'Van', 'Boat', 'Car', 'Car', 'Segway', 'Truck', 'Car', 'Car', 'Taxi', 'Truck', 'Car', 'Car', 'Car', 'Car', 'Car', 'Tank', 'Car', 'Car', 'Tank', 'Bicycle', 'Car', 'Bicycle', 'Car', 'Car', 'Boat', 'Helicopter', 'Car', 'Boat', 'Taxi', 'Boat', 'Ambulance', 'Bicycle', 'Helicopter', 'Motorcycle', 'Bus', 'Car', 'Car', 'Bicycle', 'Car', 'Bicycle', 'Boat', 'Car', 'Taxi', 'Car', 'Van', 'Car', 'Car', 'Helicopter', 'Car', 'Car', 'Helicopter', 'Bicycle', 'Car', 'Car', 'Bicycle', 'Van', 'Car', 'Car', 'Car', 'Car', 'Caterpillar', 'Bus', 'Car', 'Car', 'Motorcycle', 'Boat', 'Helicopter', 'Boat', 'Bicycle', 'Car', 'Truck', 'Car', 'Car', 'Bicycle', 'Bicycle', 'Bus', 'Van', 'Motorcycle', 'Bus', 'Car', 'Tank', 'Snowmobile', 'Boat', 'Car', 'Boat', 'Truck', 'Helicopter', 'Boat', 'Car', 'Boat', 'Helicopter', 'Car', 'Car', 'Motorcycle', 'Truck', 'Car', 'Car', 'Car', 'Van', 'Helicopter', 'Truck', 'Bus', 'Motorcycle', 'Tank', 'Truck', 'Boat', 'Bicycle', 'Motorcycle', 'Car', 'Car', 'Boat', 'Helicopter', 'Truck', 'Truck', 'Car', 'Car', 'Bicycle', 'Van', 'Truck', 'Car', 'Car', 'Motorcycle', 'Van', 'Truck', 'Car', 'Car', 'Van', 'Boat', 'Motorcycle', 'Car', 'Car', 'Car', 'Boat', 'Motorcycle', 'Bus', 'Car', 'Car', 'Car', 'Car', 'Bicycle', 'Car', 'Car', 'Truck', 'Car', 'Car', 'Boat', 'Boat', 'Truck', 'Car', 'Car', 'Car', 'Motorcycle', 'Caterpillar', 'Ambulance', 'Car', 'Car', 'Bicycle', 'Ambulance', 'Ambulance', 'Car', 'Car', 'Truck', 'Car', 'Boat', 'Car', 'Car', 'Truck', 'Ambulance', 'Car', 'Truck', 'Car', 'Car', 'Car', 'Car', 'Car', 'Boat', 'Car', 'Helicopter', 'Car', 'Car', 'Truck', 'Car', 'Car', 'Car', 'Snowmobile', 'Bus', 'Car', 'Car', 'Car', 'Car', 'Car', 'Van', 'Car', 'Caterpillar', 'Car', 'Motorcycle', 'Tank', 'Helicopter', 'Car', 'Boat', 'Helicopter', 'Car', 'Car', 'Boat', 'Truck', 'Bicycle', 'Tank', 'Car', 'Caterpillar', 'Boat', 'Car', 'Car', 'Car', 'Boat', 'Boat', 'Car', 'Car', 'Truck', 'Car', 'Helicopter', 'Truck', 'Truck', 'Car', 'Van', 'Car', 'Boat', 'Tank', 'Caterpillar', 'Boat', 'Car', 'Helicopter', 'Bicycle', 'Car', 'Car', 'Car', 'Car', 'Helicopter', 'Motorcycle', 'Car', 'Car', 'Bus', 'Car', 'Car', 'Truck', 'Bicycle', 'Car', 'Truck', 'Taxi', 'Car', 'Car', 'Boat', 'Caterpillar', 'Car', 'Car', 'Car', 'Helicopter', 'Boat', 'Boat', 'Bicycle', 'Boat', 'Car', 'Van', 'Car', 'Truck', 'Boat', 'Truck', 'Boat', 'Car', 'Car', 'Taxi', 'Car', 'Boat', 'Car', 'Car', 'Boat', 'Bus', 'Car', 'Boat', 'Boat', 'Car', 'Truck', 'Car', 'Car', 'Boat', 'Car', 'Car', 'Car', 'Boat', 'Van', 'Truck', 'Car', 'Truck', 'Car', 'Motorcycle', 'Boat', 'Taxi', 'Ambulance', 'Car', 'Truck', 'Boat', 'Car', 'Helicopter', 'Helicopter', 'Boat', 'Boat', 'Car', 'Car', 'Boat', 'Truck', 'Motorcycle', 'Motorcycle', 'Car', 'Boat', 'Tank', 'Tank', 'Truck', 'Car', 'Motorcycle', 'Helicopter', 'Car', 'Bus', 'Bus', 'Taxi', 'Car', 'Segway', 'Car', 'Cart', 'Bus', 'Car', 'Car', 'Boat', 'Boat', 'Truck', 'Motorcycle', 'Helicopter', 'Snowmobile', 'Truck', 'Car', 'Snowmobile', 'Car', 'Motorcycle', 'Motorcycle', 'Car', 'Car', 'Boat', 'Boat', 'Car', 'Car', 'Van', 'Boat', 'Car', 'Car', 'Truck', 'Car', 'Boat', 'Helicopter', 'Car', 'Caterpillar', 'Car', 'Caterpillar', 'Car', 'Boat', 'Boat', 'Truck', 'Truck', 'Car', 'Car', 'Car', 'Car', 'Boat', 'Boat', 'Truck', 'Boat', 'Car', 'Car', 'Truck', 'Car', 'Truck', 'Taxi', 'Van', 'Car', 'Car', 'Car', 'Car', 'Car', 'Motorcycle', 'Boat', 'Car', 'Boat', 'Car', 'Car', 'Boat', 'Bicycle', 'Boat', 'Ambulance', 'Car', 'Boat', 'Car', 'Truck', 'Car', 'Motorcycle', 'Car', 'Boat', 'Car', 'Car', 'Limousine', 'Boat', 'Car', 'Car', 'Car', 'Car', 'Car', 'Car', 'Truck', 'Car', 'Car', 'Van', 'Car', 'Helicopter', 'Boat', 'Truck', 'Ambulance', 'Cart', 'Motorcycle', 'Car', 'Bicycle', 'Van', 'Boat', 'Bicycle', 'Car', 'Bus', 'Car', 'Car', 'Car', 'Van', 'Boat', 'Car', 'Car', 'Car', 'Truck', 'Motorcycle', 'Car', 'Motorcycle', 'Boat', 'Boat', 'Car', 'Bicycle', 'Car', 'Truck', 'Boat', 'Car', 'Car', 'Bus', 'Limousine', 'Bicycle', 'Car', 'Car', 'Car', 'Car', 'Car', 'Boat', 'Car', 'Boat', 'Boat', 'Car', 'Tank', 'Boat', 'Bicycle', 'Boat', 'Car', 'Boat', 'Car', 'Bicycle', 'Motorcycle', 'Car', 'Boat', 'Car', 'Boat', 'Car', 'Motorcycle', 'Boat', 'Motorcycle', 'Car', 'Boat', 'Car', 'Car', 'Bicycle', 'Car', 'Boat', 'Motorcycle', 'Truck', 'Helicopter', 'Van', 'Car', 'Boat', 'Car', 'Car', 'Car', 'Boat', 'Van', 'Boat', 'Car', 'Motorcycle', 'Boat', 'Bus', 'Bicycle', 'Helicopter', 'Truck', 'Car', 'Car', 'Car', 'Ambulance', 'Car', 'Car', 'Car', 'Helicopter', 'Car', 'Helicopter', 'Ambulance', 'Van', 'Taxi', 'Van', 'Car', 'Helicopter', 'Truck', 'Car', 'Car', 'Car', 'Boat', 'Bus', 'Motorcycle', 'Car', 'Car', 'Car', 'Boat', 'Car', 'Car', 'Taxi', 'Car', 'Car', 'Car', 'Car', 'Motorcycle', 'Car', 'Helicopter', 'Truck', 'Helicopter', 'Car', 'Taxi', 'Car', 'Car', 'Bicycle', 'Truck', 'Helicopter', 'Taxi', 'Truck', 'Van', 'Bus', 'Car', 'Taxi', 'Car', 'Boat', 'Bicycle', 'Truck', 'Car', 'Truck', 'Car', 'Bus', 'Truck', 'Boat', 'Car', 'Car', 'Motorcycle', 'Motorcycle', 'Bicycle', 'Car', 'Car', 'Car', 'Bicycle', 'Bicycle', 'Car', 'Car', 'Car', 'Car', 'Motorcycle', 'Boat', 'Truck', 'Car', 'Car', 'Car', 'Boat', 'Boat', 'Bus', 'Car', 'Helicopter', 'Car', 'Bicycle', 'Boat', 'Truck', 'Motorcycle', 'Bicycle', 'Car', 'Bicycle', 'Car', 'Car', 'Motorcycle', 'Car', 'Car', 'Car', 'Motorcycle', 'Car', 'Car', 'Car', 'Boat', 'Van', 'Car', 'Car', 'Boat', 'Car', 'Car', 'Car', 'Tank', 'Tank', 'Boat', 'Helicopter', 'Car', 'Snowmobile', 'Car', 'Bus', 'Van', 'Truck', 'Taxi', 'Car', 'Bus', 'Car', 'Car', 'Helicopter', 'Bicycle', 'Boat', 'Car', 'Car', 'Car', 'Car', 'Bus', 'Truck', 'Car', 'Boat', 'Car', 'Caterpillar', 'Bicycle', 'Boat', 'Car', 'Motorcycle', 'Van', 'Car', 'Bicycle', 'Car', 'Van', 'Car', 'Bus', 'Car', 'Car', 'Motorcycle', 'Car', 'Car', 'Bicycle', 'Car', 'Car', 'Helicopter', 'Boat', 'Car', 'Car', 'Car', 'Boat', 'Car', 'Motorcycle', 'Car', 'Car', 'Car', 'Truck', 'Car', 'Car', 'Van', 'Car', 'Bus', 'Boat', 'Bus', 'Truck', 'Boat', 'Caterpillar', 'Car', 'Boat', 'Car', 'Car', 'Van', 'Taxi', 'Truck', 'Motorcycle', 'Car', 'Car', 'Car', 'Car', 'Car', 'Car', 'Boat', 'Bicycle', 'Car', 'Boat', 'Car', 'Car', 'Motorcycle', 'Boat', 'Truck', 'Truck', 'Car', 'Truck', 'Car', 'Car', 'Boat', 'Car', 'Car', 'Car', 'Bicycle', 'Car', 'Car', 'Motorcycle', 'Boat', 'Car', 'Car', 'Boat', 'Boat', 'Car', 'Van', 'Car', 'Car', 'Truck', 'Truck', 'Car', 'Helicopter', 'Car', 'Cart', 'Car', 'Car', 'Car', 'Car', 'Bicycle', 'Car', 'Van', 'Car', 'Car', 'Bicycle', 'Boat', 'Car', 'Car', 'Bicycle', 'Truck', 'Car', 'Car', 'Truck', 'Truck', 'Car', 'Van', 'Car', 'Truck', 'Car', 'Boat', 'Caterpillar', 'Boat', 'Car', 'Helicopter', 'Car', 'Car', 'Bicycle', 'Car', 'Car', 'Van', 'Car', 'Van', 'Boat', 'Segway', 'Car', 'Car', 'Car', 'Van', 'Tank', 'Car', 'Car', 'Helicopter', 'Car', 'Bus', 'Car', 'Car', 'Helicopter', 'Van', 'Car', 'Truck', 'Car', 'Car', 'Car', 'Boat', 'Car', 'Boat', 'Car', 'Boat', 'Bicycle', 'Car', 'Boat', 'Truck', 'Boat', 'Car', 'Boat', 'Car', 'Car', 'Car', 'Bus', 'Boat', 'Tank', 'Helicopter', 'Helicopter', 'Car', 'Boat', 'Truck', 'Truck', 'Boat', 'Motorcycle', 'Car', 'Car', 'Segway', 'Car', 'Car', 'Car', 'Car', 'Car', 'Bus', 'Car', 'Car', 'Truck', 'Car', 'Van', 'Boat', 'Motorcycle', 'Caterpillar', 'Van', 'Boat', 'Boat', 'Car', 'Bicycle', 'Car', 'Car', 'Truck', 'Car', 'Truck', 'Car', 'Helicopter', 'Bicycle', 'Boat', 'Boat', 'Boat', 'Helicopter', 'Car', 'Tank', 'Car', 'Car', 'Caterpillar', 'Car', 'Car', 'Bus', 'Car', 'Car', 'Taxi', 'Boat', 'Car', 'Bicycle', 'Car', 'Boat', 'Car', 'Bicycle', 'Truck', 'Truck', 'Car', 'Car', 'Bus', 'Car', 'Van', 'Car', 'Car', 'Boat', 'Boat', 'Truck', 'Car', 'Car', 'Bicycle', 'Truck', 'Car', 'Car', 'Car', 'Car', 'Truck', 'Car', 'Car', 'Bicycle', 'Car', 'Car', 'Car', 'Car', 'Helicopter', 'Car', 'Motorcycle', 'Bus', 'Boat', 'Car', 'Bicycle', 'Bus', 'Truck', 'Car', 'Car', 'Helicopter', 'Truck', 'Car', 'Helicopter', 'Car', 'Ambulance', 'Car', 'Car', 'Boat', 'Car', 'Truck', 'Caterpillar', 'Bicycle', 'Boat', 'Car', 'Car', 'Truck', 'Boat', 'Boat', 'Bicycle', 'Car', 'Car', 'Car', 'Boat', 'Motorcycle', 'Caterpillar', 'Boat', 'Car', 'Car', 'Car', 'Bicycle', 'Car', 'Car', 'Car', 'Car', 'Car', 'Bicycle', 'Car', 'Boat', 'Car', 'Bicycle', 'Taxi', 'Boat', 'Boat', 'Bus', 'Car', 'Car', 'Car', 'Car', 'Helicopter', 'Segway', 'Car', 'Boat', 'Car', 'Car', 'Car', 'Car', 'Bicycle', 'Car', 'Motorcycle', 'Car', 'Car', 'Car', 'Car', 'Car', 'Motorcycle', 'Car', 'Boat', 'Motorcycle', 'Van', 'Car', 'Van', 'Bicycle', 'Truck', 'Motorcycle', 'Car', 'Helicopter', 'Van', 'Truck', 'Car', 'Car', 'Car', 'Snowmobile', 'Motorcycle', 'Car', 'Car', 'Motorcycle', 'Car', 'Tank', 'Boat', 'Car', 'Truck', 'Taxi', 'Van', 'Bicycle', 'Car', 'Car', 'Bicycle', 'Boat', 'Car', 'Boat', 'Car', 'Van', 'Car', 'Tank', 'Bus', 'Boat', 'Car', 'Car', 'Car', 'Helicopter', 'Bus', 'Bicycle', 'Car', 'Car', 'Motorcycle', 'Car', 'Truck', 'Car', 'Ambulance', 'Helicopter', 'Snowmobile', 'Boat', 'Car', 'Boat', 'Motorcycle', 'Ambulance', 'Car', 'Car', 'Car', 'Car', 'Car', 'Boat', 'Van', 'Van', 'Car', 'Car', 'Helicopter', 'Car', 'Car', 'Car', 'Bicycle', 'Van', 'Car', 'Truck', 'Van', 'Truck', 'Boat', 'Car', 'Tank', 'Car', 'Car', 'Car', 'Boat', 'Van', 'Helicopter', 'Bicycle', 'Boat', 'Truck', 'Boat', 'Car', 'Car', 'Car', 'Car', 'Car', 'Cart', 'Truck', 'Boat', 'Boat', 'Boat', 'Boat', 'Car', 'Cart', 'Car', 'Car', 'Van', 'Car', 'Car', 'Car', 'Truck', 'Truck', 'Car', 'Car', 'Helicopter', 'Car', 'Cart', 'Car', 'Car', 'Boat', 'Helicopter', 'Truck', 'Car', 'Truck', 'Truck', 'Van', 'Snowmobile', 'Boat', 'Car', 'Boat', 'Tank', 'Car', 'Ambulance', 'Motorcycle', 'Car', 'Motorcycle', 'Car', 'Tank', 'Car', 'Car', 'Car', 'Boat', 'Motorcycle', 'Truck', 'Bus', 'Boat', 'Car', 'Tank', 'Car', 'Limousine', 'Car', 'Bus', 'Boat', 'Car', 'Boat', 'Boat', 'Car', 'Taxi', 'Truck', 'Car', 'Boat', 'Truck', 'Car', 'Car', 'Car', 'Car', 'Car', 'Car', 'Boat', 'Car', 'Helicopter', 'Truck', 'Boat', 'Boat', 'Car', 'Car', 'Truck', 'Motorcycle', 'Bus', 'Helicopter', 'Car', 'Truck', 'Bus', 'Snowmobile', 'Boat', 'Car', 'Motorcycle', 'Car', 'Car', 'Boat', 'Car', 'Car', 'Car', 'Helicopter', 'Car', 'Boat', 'Car', 'Boat', 'Car', 'Motorcycle', 'Car', 'Truck', 'Truck', 'Bus', 'Car', 'Boat', 'Boat', 'Car', 'Truck', 'Motorcycle', 'Truck', 'Boat', 'Boat', 'Car', 'Car', 'Motorcycle', 'Car', 'Boat', 'Car', 'Helicopter', 'Car', 'Boat', 'Car', 'Boat', 'Boat', 'Truck', 'Motorcycle', 'Boat', 'Car', 'Car', 'Truck', 'Car', 'Car', 'Car', 'Car', 'Boat', 'Van', 'Boat', 'Bicycle', 'Bus', 'Boat', 'Bus', 'Van', 'Helicopter', 'Car', 'Car', 'Car', 'Caterpillar', 'Car', 'Car', 'Car', 'Car', 'Bus', 'Van', 'Van', 'Car', 'Truck', 'Car', 'Caterpillar', 'Tank', 'Snowmobile', 'Car', 'Boat', 'Helicopter', 'Car', 'Car', 'Car', 'Car', 'Car', 'Helicopter', 'Helicopter', 'Car', 'Boat', 'Car', 'Bus', 'Car', 'Car', 'Bicycle', 'Car', 'Caterpillar', 'Boat', 'Van', 'Boat', 'Motorcycle', 'Taxi', 'Boat', 'Car', 'Van', 'Bicycle', 'Car', 'Car', 'Boat', 'Motorcycle', 'Boat', 'Truck', 'Van', 'Bicycle', 'Tank', 'Car', 'Car', 'Car', 'Truck', 'Car', 'Car', 'Truck', 'Car', 'Caterpillar', 'Car', 'Car', 'Car', 'Van', 'Boat', 'Van', 'Truck', 'Car', 'Bus', 'Truck', 'Car', 'Boat', 'Helicopter', 'Boat', 'Car', 'Motorcycle', 'Truck', 'Car', 'Bus', 'Car', 'Truck', 'Car', 'Van', 'Van', 'Car', 'Helicopter', 'Helicopter', 'Car', 'Boat', 'Van', 'Car', 'Car', 'Boat', 'Car', 'Truck', 'Car', 'Boat', 'Bicycle', 'Car', 'Helicopter', 'Taxi', 'Car', 'Helicopter', 'Car', 'Boat', 'Helicopter', 'Bus', 'Bicycle', 'Motorcycle', 'Helicopter', 'Car', 'Car', 'Truck', 'Car', 'Van', 'Car', 'Car', 'Car', 'Cart', 'Car', 'Boat', 'Cart', 'Bus', 'Boat', 'Bus', 'Bicycle', 'Ambulance', 'Van', 'Bus', 'Car', 'Car', 'Helicopter', 'Car', 'Tank', 'Bicycle', 'Car', 'Car', 'Boat', 'Bicycle', 'Motorcycle', 'Car', 'Bicycle', 'Car', 'Car', 'Boat', 'Car', 'Car', 'Snowmobile', 'Boat', 'Car', 'Motorcycle', 'Helicopter', 'Boat', 'Car', 'Car', 'Car', 'Car', 'Boat', 'Car', 'Car', 'Car', 'Car', 'Car', 'Car', 'Truck', 'Car', 'Car', 'Bicycle', 'Car', 'Car', 'Truck', 'Motorcycle', 'Limousine', 'Boat', 'Car', 'Motorcycle', 'Car', 'Motorcycle', 'Van', 'Bicycle', 'Car', 'Bicycle', 'Car', 'Truck', 'Car', 'Boat', 'Motorcycle', 'Car', 'Tank', 'Bicycle', 'Truck', 'Car', 'Car', 'Car', 'Bicycle', 'Truck', 'Boat', 'Helicopter', 'Motorcycle', 'Car', 'Car', 'Car', 'Tank', 'Helicopter', 'Bicycle', 'Car', 'Car', 'Boat', 'Car', 'Helicopter', 'Car', 'Bicycle', 'Car', 'Car', 'Boat', 'Van', 'Boat', 'Motorcycle', 'Car', 'Car', 'Car', 'Helicopter', 'Car', 'Motorcycle', 'Car', 'Car', 'Snowmobile', 'Truck', 'Truck', 'Motorcycle', 'Motorcycle', 'Bicycle', 'Boat', 'Car', 'Car', 'Tank', 'Bus', 'Boat', 'Car', 'Car', 'Car', 'Boat', 'Van', 'Ambulance', 'Car', 'Helicopter', 'Bicycle', 'Boat', 'Car', 'Van', 'Car', 'Helicopter', 'Snowmobile', 'Car', 'Ambulance', 'Car', 'Helicopter', 'Car', 'Boat', 'Boat', 'Car', 'Boat', 'Boat', 'Van', 'Boat', 'Truck', 'Bicycle', 'Car', 'Car', 'Boat', 'Car', 'Car', 'Bus', 'Ambulance', 'Boat', 'Boat', 'Boat', 'Cart', 'Car', 'Car', 'Car', 'Helicopter', 'Bicycle', 'Car', 'Car', 'Car', 'Boat', 'Car', 'Motorcycle', 'Car', 'Car', 'Bus', 'Van', 'Car', 'Helicopter', 'Truck', 'Car', 'Truck', 'Car', 'Limousine', 'Car', 'Boat', 'Truck', 'Car', 'Car', 'Boat', 'Boat', 'Boat', 'Truck', 'Car', 'Car', 'Car', 'Bicycle', 'Car', 'Motorcycle', 'Truck', 'Truck', 'Bus', 'Car', 'Bicycle', 'Car', 'Car', 'Boat', 'Boat', 'Boat', 'Truck', 'Car', 'Truck', 'Van', 'Boat', 'Taxi', 'Car', 'Car', 'Motorcycle', 'Caterpillar', 'Bus', 'Bicycle', 'Bicycle', 'Car', 'Car', 'Boat', 'Car', 'Truck', 'Car', 'Car', 'Limousine', 'Car', 'Motorcycle', 'Car', 'Car', 'Helicopter', 'Boat', 'Truck', 'Car', 'Boat', 'Car', 'Truck', 'Car', 'Car', 'Limousine', 'Van', 'Car', 'Truck', 'Car', 'Truck', 'Car', 'Boat', 'Car', 'Car', 'Bicycle', 'Boat', 'Bicycle', 'Car', 'Truck', 'Boat', 'Boat', 'Boat', 'Truck', 'Car', 'Car', 'Car', 'Segway', 'Van', 'Car', 'Car', 'Car', 'Van', 'Car', 'Boat', 'Car', 'Boat', 'Car', 'Car', 'Truck', 'Boat', 'Boat', 'Boat', 'Car', 'Car', 'Car', 'Car', 'Car', 'Boat', 'Bus', 'Truck', 'Caterpillar', 'Truck', 'Bicycle', 'Car', 'Car', 'Bicycle', 'Car', 'Helicopter', 'Car', 'Helicopter', 'Boat', 'Car', 'Car', 'Truck', 'Boat', 'Car', 'Car', 'Cart', 'Motorcycle', 'Bicycle', 'Bus', 'Motorcycle', 'Truck', 'Car', 'Car', 'Boat', 'Car', 'Car', 'Car', 'Car', 'Motorcycle', 'Tank', 'Boat', 'Car', 'Bus', 'Car', 'Truck', 'Bus', 'Car', 'Helicopter', 'Truck', 'Car', 'Car', 'Motorcycle', 'Car', 'Car', 'Bus', 'Car', 'Boat', 'Bus', 'Boat', 'Car', 'Ambulance', 'Car', 'Motorcycle', 'Helicopter', 'Car', 'Car', 'Ambulance', 'Boat', 'Helicopter', 'Car', 'Car', 'Bicycle', 'Bicycle', 'Car', 'Boat', 'Car', 'Car', 'Car', 'Car', 'Bus', 'Truck', 'Motorcycle', 'Car', 'Car', 'Car', 'Boat', 'Caterpillar', 'Truck', 'Helicopter', 'Truck', 'Boat', 'Van', 'Ambulance', 'Van', 'Car', 'Taxi', 'Boat', 'Car', 'Car', 'Car', 'Snowmobile', 'Boat', 'Bicycle', 'Boat', 'Car', 'Boat', 'Motorcycle', 'Car', 'Bicycle', 'Motorcycle', 'Car', 'Van', 'Boat', 'Car', 'Truck', 'Car', 'Car', 'Car', 'Car', 'Car', 'Car', 'Car', 'Boat', 'Car', 'Car', 'Motorcycle', 'Tank', 'Car', 'Van', 'Car', 'Bicycle', 'Tank', 'Car', 'Boat', 'Truck', 'Car', 'Boat', 'Boat', 'Ambulance', 'Boat', 'Car', 'Truck', 'Car', 'Car', 'Boat', 'Boat', 'Truck', 'Segway', 'Car', 'Car', 'Car', 'Motorcycle', 'Boat', 'Boat', 'Car', 'Car', 'Truck', 'Bus', 'Bicycle', 'Tank', 'Car', 'Helicopter', 'Car', 'Car', 'Car', 'Car', 'Car', 'Tank', 'Car', 'Motorcycle', 'Motorcycle', 'Boat', 'Car', 'Taxi', 'Car', 'Boat', 'Boat', 'Motorcycle', 'Boat', 'Boat', 'Car', 'Car', 'Bus', 'Boat', 'Car', 'Helicopter', 'Motorcycle', 'Car', 'Van', 'Bicycle', 'Car', 'Limousine', 'Car', 'Car', 'Car', 'Car', 'Car', 'Car', 'Car', 'Car', 'Car', 'Helicopter', 'Car', 'Motorcycle', 'Boat', 'Car', 'Helicopter', 'Boat', 'Motorcycle', 'Car', 'Car', 'Boat', 'Bicycle', 'Car', 'Motorcycle', 'Car', 'Car', 'Boat', 'Van', 'Car', 'Helicopter', 'Boat', 'Car', 'Car', 'Boat', 'Van', 'Car', 'Boat', 'Car', 'Car', 'Car', 'Car', 'Truck', 'Car', 'Car', 'Boat', 'Truck', 'Car', 'Helicopter', 'Car', 'Truck', 'Boat', 'Cart', 'Boat', 'Truck', 'Boat', 'Boat', 'Motorcycle', 'Boat', 'Helicopter', 'Car', 'Car', 'Car', 'Car', 'Car', 'Car', 'Car', 'Car', 'Boat', 'Boat', 'Car', 'Car', 'Van', 'Car', 'Bus', 'Boat', 'Truck', 'Boat', 'Car', 'Boat', 'Car', 'Boat', 'Car', 'Truck', 'Car', 'Motorcycle', 'Taxi', 'Car', 'Bus', 'Bicycle', 'Truck', 'Car', 'Van', 'Boat', 'Car', 'Car', 'Car', 'Van', 'Car', 'Car', 'Car', 'Bicycle', 'Car', 'Bus', 'Truck', 'Truck', 'Car', 'Car', 'Helicopter', 'Boat', 'Motorcycle', 'Motorcycle', 'Car', 'Boat', 'Motorcycle', 'Tank', 'Car', 'Boat', 'Car', 'Car', 'Car', 'Tank', 'Car', 'Van', 'Car', 'Boat', 'Motorcycle', 'Car', 'Taxi', 'Ambulance', 'Car', 'Helicopter', 'Boat', 'Van', 'Car', 'Car', 'Motorcycle', 'Car', 'Car', 'Tank', 'Boat', 'Van', 'Bicycle', 'Caterpillar', 'Caterpillar', 'Helicopter', 'Motorcycle', 'Van', 'Boat', 'Car', 'Bicycle', 'Boat', 'Segway', 'Car', 'Caterpillar', 'Car', 'Truck', 'Motorcycle', 'Boat', 'Boat', 'Car', 'Bicycle', 'Car', 'Van', 'Car', 'Helicopter', 'Bicycle', 'Boat', 'Car', 'Bicycle', 'Car', 'Car', 'Bicycle', 'Motorcycle', 'Car', 'Car', 'Truck', 'Boat', 'Truck', 'Bus', 'Truck', 'Boat', 'Truck', 'Car', 'Truck', 'Taxi', 'Boat', 'Bus', 'Car', 'Helicopter', 'Car', 'Car', 'Car', 'Truck', 'Car', 'Car', 'Van', 'Car', 'Motorcycle', 'Helicopter', 'Car', 'Car', 'Truck', 'Boat', 'Boat', 'Boat', 'Car', 'Motorcycle', 'Car', 'Boat', 'Bicycle', 'Car', 'Helicopter', 'Van', 'Car', 'Bicycle', 'Car', 'Caterpillar', 'Boat', 'Truck', 'Car', 'Car', 'Boat', 'Boat', 'Car', 'Helicopter', 'Truck', 'Car', 'Motorcycle', 'Car', 'Helicopter', 'Motorcycle', 'Car', 'Helicopter', 'Car', 'Boat', 'Truck', 'Helicopter', 'Tank', 'Boat', 'Car', 'Car', 'Car', 'Bicycle', 'Car', 'Car', 'Car', 'Car', 'Bus', 'Truck', 'Boat', 'Car', 'Motorcycle', 'Boat', 'Car', 'Helicopter', 'Boat', 'Car', 'Car', 'Car', 'Motorcycle', 'Car', 'Car', 'Motorcycle', 'Van', 'Car', 'Car', 'Boat', 'Snowmobile', 'Helicopter', 'Car', 'Truck', 'Bicycle', 'Bus', 'Car', 'Motorcycle', 'Car', 'Boat', 'Car', 'Motorcycle', 'Car', 'Motorcycle', 'Boat', 'Truck', 'Bus', 'Limousine', 'Car', 'Car', 'Car', 'Car', 'Helicopter', 'Boat', 'Car', 'Boat', 'Car', 'Car', 'Car', 'Motorcycle', 'Bus', 'Boat', 'Car', 'Boat', 'Car', 'Car', 'Truck', 'Boat', 'Car', 'Tank', 'Caterpillar', 'Helicopter', 'Truck', 'Boat', 'Helicopter', 'Car', 'Car', 'Car', 'Car', 'Car', 'Truck', 'Helicopter', 'Helicopter', 'Car', 'Car', 'Bicycle', 'Bicycle', 'Car', 'Truck', 'Car', 'Cart', 'Boat', 'Car', 'Car', 'Boat', 'Boat', 'Car', 'Car', 'Truck', 'Caterpillar', 'Car', 'Car', 'Motorcycle', 'Car', 'Car', 'Boat', 'Car', 'Car', 'Car', 'Bus', 'Truck', 'Truck', 'Boat', 'Car', 'Car', 'Car', 'Car', 'Car', 'Car', 'Car', 'Helicopter', 'Car', 'Motorcycle', 'Car', 'Motorcycle', 'Car', 'Car', 'Car', 'Car', 'Car', 'Boat', 'Motorcycle', 'Truck', 'Bicycle', 'Car', 'Boat', 'Car', 'Car', 'Car', 'Boat', 'Motorcycle', 'Boat', 'Car', 'Tank', 'Boat', 'Car', 'Car', 'Car', 'Boat', 'Boat', 'Boat', 'Tank', 'Car', 'Boat', 'Car', 'Car', 'Car', 'Boat', 'Boat', 'Boat', 'Boat', 'Bus', 'Car', 'Truck', 'Car', 'Car', 'Boat', 'Boat', 'Car', 'Boat', 'Truck', 'Truck', 'Car', 'Bicycle', 'Car', 'Car', 'Car', 'Bicycle', 'Car', 'Boat', 'Boat', 'Tank', 'Boat', 'Car', 'Car', 'Car', 'Helicopter', 'Car', 'Bus', 'Car', 'Truck', 'Car', 'Van', 'Car', 'Car', 'Car', 'Truck', 'Car', 'Bicycle', 'Boat', 'Car', 'Car', 'Car', 'Car', 'Boat', 'Car', 'Boat', 'Tank', 'Helicopter', 'Car', 'Ambulance', 'Car', 'Caterpillar', 'Boat', 'Car', 'Car', 'Truck', 'Car', 'Car', 'Helicopter', 'Car', 'Car', 'Boat', 'Car', 'Helicopter', 'Boat', 'Car', 'Car', 'Car', 'Boat', 'Car', 'Car', 'Motorcycle', 'Boat', 'Boat', 'Car', 'Car', 'Ambulance', 'Car', 'Bus', 'Car', 'Boat', 'Boat', 'Boat', 'Helicopter', 'Car', 'Helicopter', 'Car', 'Car', 'Truck', 'Car', 'Car', 'Car', 'Car', 'Car', 'Car', 'Car', 'Car', 'Helicopter', 'Bicycle', 'Car', 'Bicycle', 'Truck', 'Boat', 'Ambulance', 'Car', 'Bus', 'Car', 'Boat', 'Car', 'Bicycle', 'Car', 'Boat', 'Bicycle', 'Boat', 'Car', 'Car', 'Truck', 'Car', 'Car', 'Car', 'Car', 'Car', 'Car', 'Boat', 'Car', 'Bus', 'Car', 'Truck', 'Car', 'Motorcycle', 'Boat', 'Ambulance', 'Car', 'Car', 'Bicycle', 'Car', 'Car', 'Car', 'Car', 'Car', 'Car', 'Car', 'Car', 'Car', 'Car', 'Boat', 'Car', 'Car', 'Truck', 'Car', 'Boat', 'Boat', 'Car', 'Car', 'Car', 'Car', 'Car', 'Ambulance', 'Bicycle', 'Van', 'Truck', 'Bicycle', 'Car', 'Car', 'Car', 'Car', 'Helicopter', 'Boat', 'Truck', 'Boat', 'Car', 'Car', 'Boat', 'Boat', 'Car', 'Car', 'Boat', 'Car', 'Truck', 'Car', 'Helicopter', 'Taxi', 'Helicopter', 'Boat', 'Car', 'Bicycle', 'Car', 'Car', 'Car', 'Car', 'Boat', 'Bicycle', 'Car', 'Car', 'Car', 'Boat', 'Truck', 'Car', 'Car', 'Car', 'Car', 'Car', 'Car', 'Car', 'Car', 'Boat', 'Bicycle', 'Helicopter', 'Helicopter', 'Car', 'Car', 'Truck', 'Car', 'Car', 'Car', 'Bus', 'Car', 'Boat', 'Motorcycle', 'Car', 'Car', 'Car', 'Boat', 'Car', 'Car', 'Boat', 'Car', 'Car', 'Car', 'Car', 'Bicycle', 'Car', 'Boat', 'Car', 'Car', 'Car', 'Van', 'Car', 'Motorcycle', 'Car', 'Helicopter', 'Car', 'Helicopter', 'Truck', 'Truck', 'Boat', 'Truck', 'Car', 'Truck', 'Car', 'Motorcycle', 'Car', 'Car', 'Helicopter', 'Van', 'Car', 'Car', 'Car', 'Car', 'Bicycle', 'Car', 'Boat', 'Car', 'Truck', 'Car', 'Limousine', 'Car', 'Truck', 'Boat', 'Bicycle', 'Boat', 'Car', 'Car', 'Car', 'Van', 'Boat', 'Car', 'Helicopter', 'Boat', 'Car', 'Car', 'Car', 'Motorcycle', 'Bicycle', 'Car', 'Car', 'Car', 'Truck', 'Boat', 'Boat', 'Car', 'Car', 'Bicycle', 'Car', 'Car', 'Boat', 'Bus', 'Car', 'Car', 'Boat', 'Car', 'Car', 'Car', 'Car', 'Car', 'Ambulance', 'Boat', 'Car', 'Car', 'Car', 'Car', 'Car', 'Boat', 'Car', 'Boat', 'Motorcycle', 'Motorcycle', 'Car', 'Car', 'Car', 'Bicycle', 'Car', 'Boat', 'Bus', 'Bicycle', 'Truck', 'Car', 'Motorcycle', 'Car', 'Boat', 'Car', 'Car', 'Car', 'Car', 'Truck', 'Car', 'Taxi', 'Car', 'Boat', 'Boat', 'Helicopter', 'Car', 'Car', 'Car', 'Truck', 'Car', 'Helicopter', 'Car', 'Boat', 'Boat', 'Car', 'Car', 'Segway', 'Bicycle', 'Tank', 'Truck', 'Helicopter', 'Car', 'Car', 'Helicopter', 'Tank', 'Car', 'Car', 'Car', 'Car', 'Car', 'Bicycle', 'Van', 'Car', 'Motorcycle', 'Car', 'Ambulance', 'Boat', 'Truck', 'Bicycle', 'Car', 'Truck', 'Car', 'Car', 'Motorcycle', 'Snowmobile', 'Truck', 'Car', 'Boat', 'Bicycle', 'Car', 'Car', 'Car', 'Boat', 'Snowmobile', 'Car', 'Car', 'Caterpillar', 'Boat', 'Car', 'Car', 'Motorcycle', 'Truck', 'Van', 'Truck', 'Boat', 'Snowmobile', 'Car', 'Truck', 'Car', 'Car', 'Car', 'Truck', 'Boat', 'Cart', 'Boat', 'Truck', 'Car', 'Car', 'Car', 'Boat', 'Motorcycle', 'Helicopter', 'Boat', 'Car', 'Boat', 'Van', 'Truck', 'Boat', 'Car', 'Van', 'Van', 'Car', 'Car', 'Truck', 'Car', 'Car', 'Car', 'Boat', 'Car', 'Car', 'Car', 'Truck', 'Boat', 'Car', 'Taxi', 'Car', 'Car', 'Boat', 'Car', 'Bicycle', 'Car', 'Truck', 'Car', 'Boat', 'Car', 'Car', 'Truck', 'Boat', 'Car', 'Car', 'Boat', 'Bicycle', 'Truck', 'Truck', 'Boat', 'Car', 'Truck', 'Car', 'Truck', 'Boat', 'Car', 'Car', 'Car', 'Motorcycle', 'Car', 'Bicycle', 'Truck', 'Car', 'Car', 'Car', 'Car', 'Bicycle', 'Van', 'Car', 'Ambulance', 'Car', 'Boat', 'Car', 'Truck', 'Boat', 'Car', 'Car', 'Truck', 'Truck', 'Truck', 'Car', 'Truck', 'Car', 'Car', 'Motorcycle', 'Car', 'Car', 'Car', 'Car', 'Boat', 'Van', 'Boat', 'Car', 'Car', 'Car', 'Car', 'Car', 'Truck', 'Caterpillar', 'Car', 'Van', 'Car', 'Truck', 'Car', 'Helicopter', 'Motorcycle', 'Car', 'Taxi', 'Motorcycle', 'Car', 'Car', 'Car', 'Boat', 'Bus', 'Bicycle', 'Car', 'Bus', 'Helicopter', 'Van', 'Car', 'Bus', 'Van', 'Bus', 'Boat', 'Truck', 'Boat', 'Truck', 'Car', 'Tank', 'Boat', 'Helicopter', 'Boat', 'Boat', 'Car', 'Truck', 'Car', 'Car', 'Truck', 'Truck', 'Truck', 'Car', 'Boat', 'Car', 'Taxi', 'Car', 'Boat', 'Car', 'Motorcycle', 'Car', 'Car', 'Car', 'Car', 'Van', 'Motorcycle', 'Boat', 'Car', 'Car', 'Car', 'Car', 'Car', 'Truck', 'Car', 'Car', 'Van', 'Boat', 'Car', 'Van', 'Car', 'Car', 'Bicycle', 'Truck', 'Van', 'Boat', 'Boat', 'Ambulance', 'Car', 'Boat', 'Truck', 'Helicopter', 'Car', 'Boat', 'Boat', 'Car', 'Boat', 'Car', 'Truck', 'Bus', 'Car', 'Car', 'Boat', 'Car', 'Car', 'Car', 'Truck', 'Car', 'Boat', 'Car', 'Car', 'Van', 'Taxi', 'Car', 'Taxi', 'Car', 'Car', 'Car', 'Motorcycle', 'Boat', 'Car', 'Car', 'Helicopter', 'Boat', 'Boat', 'Ambulance', 'Truck', 'Car', 'Ambulance', 'Boat', 'Car', 'Car', 'Boat', 'Van', 'Car', 'Helicopter', 'Boat', 'Bicycle', 'Car', 'Van', 'Car', 'Boat', 'Ambulance', 'Bus', 'Boat', 'Car', 'Car', 'Car', 'Car', 'Boat', 'Truck', 'Ambulance', 'Bicycle', 'Car', 'Bicycle', 'Car', 'Motorcycle', 'Bus', 'Car', 'Car', 'Boat', 'Car', 'Boat', 'Truck', 'Boat', 'Motorcycle', 'Car', 'Truck', 'Van', 'Car', 'Van', 'Limousine', 'Tank', 'Boat', 'Car', 'Car', 'Boat', 'Car', 'Car', 'Ambulance', 'Car', 'Car', 'Truck', 'Car', 'Car', 'Car', 'Car', 'Motorcycle', 'Boat', 'Car', 'Car', 'Boat', 'Car', 'Boat', 'Helicopter', 'Car', 'Boat', 'Helicopter', 'Car', 'Car', 'Truck', 'Tank', 'Caterpillar', 'Bicycle', 'Car', 'Helicopter', 'Car', 'Taxi', 'Car', 'Car', 'Truck', 'Truck', 'Motorcycle', 'Car', 'Boat', 'Car', 'Boat', 'Car', 'Truck', 'Car', 'Boat', 'Boat', 'Segway', 'Motorcycle', 'Car', 'Car', 'Car', 'Truck', 'Tank', 'Van', 'Van', 'Car', 'Car', 'Car', 'Boat', 'Truck', 'Car', 'Motorcycle', 'Truck', 'Car', 'Bus', 'Car', 'Truck', 'Boat', 'Truck', 'Tank', 'Car', 'Truck', 'Van', 'Car', 'Boat', 'Car', 'Boat', 'Boat', 'Van', 'Car', 'Boat', 'Car', 'Truck', 'Helicopter', 'Car', 'Truck', 'Car', 'Boat', 'Van', 'Car', 'Truck', 'Car', 'Car', 'Van', 'Bicycle', 'Bus', 'Helicopter', 'Truck', 'Car', 'Helicopter', 'Boat', 'Car', 'Bus', 'Car', 'Car', 'Helicopter', 'Helicopter', 'Car', 'Boat', 'Truck', 'Boat', 'Boat', 'Car', 'Car', 'Truck', 'Taxi', 'Car', 'Truck', 'Car', 'Car', 'Boat', 'Car', 'Truck', 'Boat', 'Snowmobile', 'Car', 'Boat', 'Car', 'Car', 'Car', 'Bus', 'Van', 'Car', 'Car', 'Car', 'Boat', 'Car', 'Car', 'Boat', 'Car', 'Car', 'Bicycle', 'Helicopter', 'Boat', 'Boat', 'Boat', 'Boat', 'Caterpillar', 'Car', 'Car', 'Car', 'Car', 'Boat', 'Car', 'Boat', 'Motorcycle', 'Car', 'Truck', 'Car', 'Tank', 'Car', 'Van', 'Car', 'Car', 'Car', 'Motorcycle', 'Car', 'Car', 'Boat', 'Car', 'Boat', 'Car', 'Helicopter', 'Truck', 'Motorcycle', 'Car', 'Helicopter', 'Car', 'Car', 'Motorcycle', 'Van', 'Truck', 'Car', 'Van', 'Car', 'Car', 'Truck', 'Bus', 'Van', 'Truck', 'Truck', 'Van', 'Snowmobile', 'Motorcycle', 'Car', 'Boat', 'Bicycle', 'Car', 'Bus', 'Car', 'Truck', 'Boat', 'Motorcycle', 'Car', 'Boat', 'Car', 'Boat', 'Van', 'Car', 'Truck', 'Boat', 'Car', 'Car', 'Van', 'Motorcycle', 'Motorcycle', 'Motorcycle', 'Bus', 'Bus', 'Car', 'Motorcycle', 'Car', 'Car', 'Car', 'Bicycle', 'Bus', 'Car', 'Helicopter', 'Truck', 'Van', 'Truck', 'Car', 'Car', 'Car', 'Motorcycle', 'Truck', 'Car', 'Car', 'Boat', 'Snowmobile', 'Car', 'Truck', 'Car', 'Helicopter', 'Caterpillar', 'Car', 'Car', 'Car', 'Car', 'Bicycle', 'Car', 'Helicopter', 'Car', 'Car', 'Car', 'Motorcycle', 'Helicopter', 'Boat', 'Boat', 'Boat', 'Car', 'Car', 'Car', 'Helicopter', 'Boat', 'Van', 'Bicycle', 'Car', 'Bicycle', 'Car', 'Car', 'Car', 'Car', 'Caterpillar', 'Car', 'Boat', 'Boat', 'Helicopter', 'Car', 'Truck', 'Truck', 'Car', 'Car', 'Bicycle', 'Car', 'Car', 'Car', 'Van', 'Car', 'Van', 'Boat', 'Bus', 'Car', 'Car', 'Motorcycle', 'Car', 'Bus', 'Van', 'Taxi', 'Helicopter', 'Bus', 'Boat', 'Bus', 'Helicopter', 'Car', 'Boat', 'Car', 'Boat', 'Car', 'Car', 'Car', 'Car', 'Car', 'Car', 'Car', 'Car', 'Boat', 'Truck', 'Taxi', 'Bicycle', 'Car', 'Car', 'Car', 'Limousine', 'Boat', 'Van', 'Boat', 'Car', 'Car', 'Segway', 'Car', 'Taxi', 'Car', 'Bicycle', 'Boat', 'Motorcycle', 'Car', 'Car', 'Boat', 'Van', 'Car', 'Car', 'Limousine', 'Motorcycle', 'Car', 'Tank', 'Boat', 'Truck', 'Car', 'Car', 'Bicycle', 'Ambulance', 'Bicycle', 'Car', 'Bicycle', 'Helicopter', 'Bicycle', 'Boat', 'Car', 'Taxi', 'Motorcycle', 'Motorcycle', 'Boat', 'Car', 'Car', 'Motorcycle', 'Car', 'Bicycle', 'Boat', 'Car', 'Helicopter', 'Car', 'Boat', 'Car', 'Boat', 'Car', 'Helicopter', 'Car', 'Car', 'Car', 'Boat', 'Car', 'Boat', 'Boat', 'Car', 'Tank', 'Bus', 'Boat', 'Boat', 'Boat', 'Car', 'Boat', 'Motorcycle', 'Motorcycle', 'Bicycle', 'Van', 'Car', 'Car', 'Car', 'Car', 'Car', 'Taxi', 'Bus', 'Boat', 'Boat', 'Boat', 'Car', 'Helicopter', 'Ambulance', 'Bus', 'Boat', 'Taxi', 'Cart', 'Car', 'Boat', 'Car', 'Car', 'Car', 'Car', 'Van', 'Car', 'Boat', 'Car', 'Car', 'Car', 'Helicopter', 'Car', 'Car', 'Truck', 'Truck', 'Boat', 'Car', 'Car', 'Car', 'Car', 'Boat', 'Car', 'Bus', 'Car', 'Car', 'Truck', 'Caterpillar', 'Helicopter', 'Car', 'Truck', 'Car', 'Car', 'Van', 'Car', 'Car', 'Car', 'Helicopter', 'Car', 'Car', 'Boat', 'Bus', 'Boat', 'Bicycle', 'Car', 'Van', 'Van', 'Truck', 'Car', 'Car', 'Helicopter', 'Car', 'Helicopter', 'Boat', 'Car', 'Car', 'Car', 'Car', 'Car', 'Car', 'Motorcycle', 'Boat', 'Car', 'Bicycle', 'Boat', 'Car', 'Helicopter', 'Motorcycle', 'Boat', 'Van', 'Boat', 'Car', 'Van', 'Car', 'Car', 'Car', 'Boat', 'Truck', 'Bus', 'Van', 'Van', 'Bicycle', 'Truck', 'Car', 'Boat', 'Helicopter', 'Helicopter', 'Bicycle', 'Boat', 'Car', 'Car', 'Helicopter', 'Boat', 'Car', 'Boat', 'Car', 'Boat', 'Snowmobile', 'Truck', 'Truck', 'Car', 'Car', 'Car', 'Car', 'Car', 'Car', 'Car', 'Car', 'Helicopter', 'Car', 'Boat', 'Truck', 'Truck', 'Car', 'Car', 'Boat', 'Motorcycle', 'Car', 'Motorcycle', 'Boat', 'Motorcycle', 'Car', 'Car', 'Boat', 'Car', 'Taxi', 'Car', 'Car', 'Truck', 'Bicycle', 'Boat', 'Helicopter', 'Van', 'Boat', 'Car', 'Motorcycle', 'Car', 'Van', 'Car', 'Car', 'Car', 'Car', 'Motorcycle', 'Car', 'Car', 'Taxi', 'Car', 'Bicycle', 'Car', 'Boat', 'Van', 'Car', 'Truck', 'Helicopter', 'Car', 'Boat', 'Car', 'Bicycle', 'Car', 'Car', 'Car', 'Car', 'Car', 'Car', 'Boat', 'Car', 'Car', 'Car', 'Truck', 'Car', 'Car', 'Truck', 'Car', 'Car', 'Motorcycle', 'Truck', 'Truck', 'Car', 'Truck', 'Truck', 'Car', 'Car', 'Car', 'Bicycle', 'Boat', 'Motorcycle', 'Boat', 'Car', 'Car', 'Car', 'Truck', 'Truck', 'Car', 'Car', 'Car', 'Van', 'Car', 'Car', 'Motorcycle', 'Car', 'Car', 'Car', 'Tank', 'Bicycle', 'Van', 'Bicycle', 'Boat', 'Bicycle', 'Car', 'Car', 'Bus', 'Boat', 'Boat', 'Bus', 'Boat', 'Tank', 'Car', 'Car', 'Boat', 'Car', 'Car', 'Boat', 'Bicycle', 'Boat', 'Boat', 'Boat', 'Car', 'Car', 'Car', 'Car', 'Bicycle', 'Car', 'Boat', 'Car', 'Car', 'Van', 'Boat', 'Boat', 'Car', 'Van', 'Car', 'Car', 'Car', 'Car', 'Boat', 'Bus', 'Car', 'Boat', 'Bicycle', 'Car', 'Truck', 'Car', 'Helicopter', 'Bicycle', 'Van', 'Bus', 'Car', 'Car', 'Truck', 'Boat', 'Boat', 'Motorcycle', 'Car', 'Car', 'Car', 'Car', 'Boat', 'Limousine', 'Car', 'Car', 'Car', 'Tank', 'Boat', 'Van', 'Caterpillar', 'Boat', 'Car', 'Bus', 'Car', 'Caterpillar', 'Car', 'Truck', 'Truck', 'Boat', 'Car', 'Boat', 'Boat', 'Boat', 'Van', 'Truck', 'Car', 'Car', 'Car', 'Car', 'Truck', 'Car', 'Bus', 'Car', 'Van', 'Car', 'Truck', 'Bus', 'Boat', 'Car', 'Motorcycle', 'Car', 'Car', 'Car', 'Truck', 'Motorcycle', 'Bus', 'Car', 'Helicopter', 'Boat', 'Car', 'Truck', 'Motorcycle', 'Car', 'Car', 'Bicycle', 'Bus', 'Limousine', 'Car', 'Car', 'Car', 'Boat', 'Car', 'Car', 'Car', 'Van', 'Car', 'Helicopter', 'Boat', 'Car', 'Car', 'Bicycle', 'Motorcycle', 'Car', 'Bicycle', 'Car', 'Snowmobile', 'Tank', 'Car', 'Truck', 'Car', 'Helicopter', 'Car', 'Car', 'Boat', 'Car', 'Van', 'Truck', 'Boat', 'Bicycle', 'Boat', 'Boat', 'Caterpillar', 'Car', 'Car', 'Van', 'Car', 'Car', 'Caterpillar', 'Car', 'Car', 'Car', 'Car', 'Helicopter', 'Motorcycle', 'Tank', 'Car', 'Tank', 'Boat', 'Car', 'Snowmobile', 'Car', 'Car', 'Helicopter', 'Car', 'Car', 'Truck', 'Car', 'Helicopter', 'Truck', 'Car', 'Helicopter', 'Car', 'Car', 'Boat', 'Boat', 'Car', 'Car', 'Car', 'Car', 'Boat', 'Boat', 'Boat', 'Boat', 'Boat', 'Bicycle', 'Car', 'Car', 'Car', 'Truck', 'Car', 'Bus', 'Truck', 'Boat', 'Car', 'Car', 'Truck', 'Helicopter', 'Car', 'Car', 'Car', 'Van', 'Bicycle', 'Car', 'Boat', 'Car', 'Car', 'Car', 'Car', 'Boat', 'Car', 'Car', 'Bus', 'Bicycle', 'Car', 'Boat', 'Boat']\n"
     ]
    }
   ],
   "source": [
    "predictedList = list(map(lambda x : np.argmax(x),predicted))\n",
    "# print(predictedList)\n",
    "\n",
    "classes = list(dict.fromkeys(list(np.array(df_train[\"classes\"]))))\n",
    "# print(classes)\n",
    "\n",
    "stringPredictedList = list(map(lambda x : classes[x],predictedList))\n",
    "print(stringPredictedList)"
   ]
  },
  {
   "cell_type": "code",
   "execution_count": 47,
   "metadata": {},
   "outputs": [
    {
     "name": "stdout",
     "output_type": "stream",
     "text": [
      "        Id Category\n",
      "0        0     Boat\n",
      "1        1      Van\n",
      "2        2    Truck\n",
      "3        3      Van\n",
      "4        4  Bicycle\n",
      "...    ...      ...\n",
      "7953  7953      Bus\n",
      "7954  7954  Bicycle\n",
      "7955  7955      Car\n",
      "7956  7956     Boat\n",
      "7957  7957     Boat\n",
      "\n",
      "[7958 rows x 2 columns]\n"
     ]
    }
   ],
   "source": [
    "predClasses = pd.DataFrame({'Category': stringPredictedList})\n",
    "ids = pd.DataFrame({'Id':np.arange(len(stringPredictedList))})\n",
    "output = pd.concat([ids, predClasses], axis=1)\n",
    "print(output)\n",
    "output.to_csv('predicted_labels_inceptionV3.csv', index = None, header=True)"
   ]
  },
  {
   "cell_type": "code",
   "execution_count": 38,
   "metadata": {},
   "outputs": [
    {
     "name": "stdout",
     "output_type": "stream",
     "text": [
      "0.85\n"
     ]
    }
   ],
   "source": [
    "accuracy_test = 0\n",
    "for i in range(len(stringPredictedList)):\n",
    "    if stringPredictedList[i] == y_test[i]:\n",
    "        accuracy_test +=1\n",
    "print(accuracy_test/len(stringPredictedList))"
   ]
  }
 ],
 "metadata": {
  "kernelspec": {
   "display_name": "Python 3",
   "language": "python",
   "name": "python3"
  },
  "language_info": {
   "codemirror_mode": {
    "name": "ipython",
    "version": 3
   },
   "file_extension": ".py",
   "mimetype": "text/x-python",
   "name": "python",
   "nbconvert_exporter": "python",
   "pygments_lexer": "ipython3",
   "version": "3.6.9"
  }
 },
 "nbformat": 4,
 "nbformat_minor": 2
}
